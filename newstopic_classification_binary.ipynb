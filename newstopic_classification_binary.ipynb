{
 "cells": [
  {
   "cell_type": "markdown",
   "id": "bea0edd8",
   "metadata": {},
   "source": [
    "#### [ 뉴스 토픽 분류 AI ]\n",
    "- 다중 분류 모델\n",
    "- 한국어 뉴스 헤드라인을 이용하여, 뉴스의 주제를 분류하는 알고리즘 개발"
   ]
  },
  {
   "cell_type": "code",
   "execution_count": 3,
   "id": "97e68eeb",
   "metadata": {},
   "outputs": [],
   "source": [
    "# ------ LIBRARY -------#\n",
    "import numpy as np\n",
    "import os\n",
    "import pickle\n",
    "import sys\n",
    "import pandas as pd\n",
    "import re\n",
    "import seaborn as sns\n",
    "\n",
    "# torch\n",
    "import torch\n",
    "import torch.cuda.amp as amp\n",
    "from torch.utils.data.dataset import Dataset\n",
    "from torch.utils.data import DataLoader\n",
    "from torch.utils.data.sampler import *\n",
    "\n",
    "import torch.nn as nn\n",
    "import torch.nn.functional as F\n",
    "\n",
    "from torch.optim.lr_scheduler import CosineAnnealingWarmRestarts, CosineAnnealingLR, ReduceLROnPlateau, MultiStepLR, OneCycleLR\n",
    "\n",
    "#\n",
    "\n",
    "import math\n",
    "import torch\n",
    "from torch.optim.optimizer import Optimizer, required\n",
    "import torch_optimizer as optim\n",
    "from collections import defaultdict\n",
    "import itertools as it\n",
    "\n",
    "import tqdm\n",
    "import random\n",
    "\n",
    "#import time\n",
    "import matplotlib.pyplot as plt\n",
    "from timeit import default_timer as timer\n",
    "from sklearn.model_selection import KFold\n",
    "from sklearn.metrics import f1_score\n",
    "from sklearn.preprocessing import LabelEncoder\n",
    "from sklearn.preprocessing import StandardScaler\n",
    "from sklearn.metrics import accuracy_score\n",
    "import torch\n",
    "import transformers\n",
    "\n",
    "# transformer\n",
    "from transformers import XLMPreTrainedModel, XLMRobertaModel, XLMRobertaConfig, XLMRobertaTokenizer\n",
    "from transformers import XLMRobertaForSequenceClassification, BertForSequenceClassification\n",
    "from transformers import AutoTokenizer\n",
    "from transformers import BertForSequenceClassification, DistilBertForSequenceClassification, XLNetForSequenceClassification,\\\n",
    "XLMRobertaForSequenceClassification, XLMForSequenceClassification, RobertaForSequenceClassification\n",
    "from transformers import AdamW\n",
    "from transformers import get_linear_schedule_with_warmup"
   ]
  },
  {
   "cell_type": "code",
   "execution_count": 4,
   "id": "00a2e7ff",
   "metadata": {},
   "outputs": [],
   "source": [
    "train=pd.read_csv('./data/open/train_data.csv')\n",
    "test=pd.read_csv('./data/open/test_data.csv')"
   ]
  },
  {
   "cell_type": "code",
   "execution_count": 5,
   "id": "d985832f",
   "metadata": {},
   "outputs": [],
   "source": [
    "train=train[['title','topic_idx']]\n",
    "test=test[['title']]"
   ]
  },
  {
   "cell_type": "code",
   "execution_count": 6,
   "id": "c18b8c91",
   "metadata": {},
   "outputs": [
    {
     "data": {
      "text/html": [
       "<div>\n",
       "<style scoped>\n",
       "    .dataframe tbody tr th:only-of-type {\n",
       "        vertical-align: middle;\n",
       "    }\n",
       "\n",
       "    .dataframe tbody tr th {\n",
       "        vertical-align: top;\n",
       "    }\n",
       "\n",
       "    .dataframe thead th {\n",
       "        text-align: right;\n",
       "    }\n",
       "</style>\n",
       "<table border=\"1\" class=\"dataframe\">\n",
       "  <thead>\n",
       "    <tr style=\"text-align: right;\">\n",
       "      <th></th>\n",
       "      <th>title</th>\n",
       "      <th>topic_idx</th>\n",
       "    </tr>\n",
       "  </thead>\n",
       "  <tbody>\n",
       "    <tr>\n",
       "      <th>0</th>\n",
       "      <td>인천→핀란드 항공기 결항…휴가철 여행객 분통</td>\n",
       "      <td>4</td>\n",
       "    </tr>\n",
       "    <tr>\n",
       "      <th>1</th>\n",
       "      <td>실리콘밸리 넘어서겠다…구글 15조원 들여 美전역 거점화</td>\n",
       "      <td>4</td>\n",
       "    </tr>\n",
       "    <tr>\n",
       "      <th>2</th>\n",
       "      <td>이란 외무 긴장완화 해결책은 미국이 경제전쟁 멈추는 것</td>\n",
       "      <td>4</td>\n",
       "    </tr>\n",
       "    <tr>\n",
       "      <th>3</th>\n",
       "      <td>NYT 클린턴 측근韓기업 특수관계 조명…공과 사 맞물려종합</td>\n",
       "      <td>4</td>\n",
       "    </tr>\n",
       "    <tr>\n",
       "      <th>4</th>\n",
       "      <td>시진핑 트럼프에 중미 무역협상 조속 타결 희망</td>\n",
       "      <td>4</td>\n",
       "    </tr>\n",
       "    <tr>\n",
       "      <th>...</th>\n",
       "      <td>...</td>\n",
       "      <td>...</td>\n",
       "    </tr>\n",
       "    <tr>\n",
       "      <th>45649</th>\n",
       "      <td>KB금융 미국 IB 스티펠과 제휴…선진국 시장 공략</td>\n",
       "      <td>1</td>\n",
       "    </tr>\n",
       "    <tr>\n",
       "      <th>45650</th>\n",
       "      <td>1보 서울시교육청 신종코로나 확산에 개학 연기·휴업 검토</td>\n",
       "      <td>2</td>\n",
       "    </tr>\n",
       "    <tr>\n",
       "      <th>45651</th>\n",
       "      <td>게시판 키움증권 2020 키움 영웅전 실전투자대회</td>\n",
       "      <td>1</td>\n",
       "    </tr>\n",
       "    <tr>\n",
       "      <th>45652</th>\n",
       "      <td>답변하는 배기동 국립중앙박물관장</td>\n",
       "      <td>2</td>\n",
       "    </tr>\n",
       "    <tr>\n",
       "      <th>45653</th>\n",
       "      <td>2020 한국인터넷기자상 시상식 내달 1일 개최…특별상 김성후</td>\n",
       "      <td>2</td>\n",
       "    </tr>\n",
       "  </tbody>\n",
       "</table>\n",
       "<p>45654 rows × 2 columns</p>\n",
       "</div>"
      ],
      "text/plain": [
       "                                    title  topic_idx\n",
       "0                인천→핀란드 항공기 결항…휴가철 여행객 분통          4\n",
       "1          실리콘밸리 넘어서겠다…구글 15조원 들여 美전역 거점화          4\n",
       "2          이란 외무 긴장완화 해결책은 미국이 경제전쟁 멈추는 것          4\n",
       "3        NYT 클린턴 측근韓기업 특수관계 조명…공과 사 맞물려종합          4\n",
       "4               시진핑 트럼프에 중미 무역협상 조속 타결 희망          4\n",
       "...                                   ...        ...\n",
       "45649        KB금융 미국 IB 스티펠과 제휴…선진국 시장 공략          1\n",
       "45650     1보 서울시교육청 신종코로나 확산에 개학 연기·휴업 검토          2\n",
       "45651         게시판 키움증권 2020 키움 영웅전 실전투자대회          1\n",
       "45652                   답변하는 배기동 국립중앙박물관장          2\n",
       "45653  2020 한국인터넷기자상 시상식 내달 1일 개최…특별상 김성후          2\n",
       "\n",
       "[45654 rows x 2 columns]"
      ]
     },
     "execution_count": 6,
     "metadata": {},
     "output_type": "execute_result"
    }
   ],
   "source": [
    "train"
   ]
  },
  {
   "cell_type": "code",
   "execution_count": 7,
   "id": "89fcd5e1",
   "metadata": {},
   "outputs": [
    {
     "data": {
      "text/html": [
       "<div>\n",
       "<style scoped>\n",
       "    .dataframe tbody tr th:only-of-type {\n",
       "        vertical-align: middle;\n",
       "    }\n",
       "\n",
       "    .dataframe tbody tr th {\n",
       "        vertical-align: top;\n",
       "    }\n",
       "\n",
       "    .dataframe thead th {\n",
       "        text-align: right;\n",
       "    }\n",
       "</style>\n",
       "<table border=\"1\" class=\"dataframe\">\n",
       "  <thead>\n",
       "    <tr style=\"text-align: right;\">\n",
       "      <th></th>\n",
       "      <th>title</th>\n",
       "    </tr>\n",
       "  </thead>\n",
       "  <tbody>\n",
       "    <tr>\n",
       "      <th>0</th>\n",
       "      <td>유튜브 내달 2일까지 크리에이터 지원 공간 운영</td>\n",
       "    </tr>\n",
       "    <tr>\n",
       "      <th>1</th>\n",
       "      <td>어버이날 맑다가 흐려져…남부지방 옅은 황사</td>\n",
       "    </tr>\n",
       "    <tr>\n",
       "      <th>2</th>\n",
       "      <td>내년부터 국가RD 평가 때 논문건수는 반영 않는다</td>\n",
       "    </tr>\n",
       "    <tr>\n",
       "      <th>3</th>\n",
       "      <td>김명자 신임 과총 회장 원로와 젊은 과학자 지혜 모을 것</td>\n",
       "    </tr>\n",
       "    <tr>\n",
       "      <th>4</th>\n",
       "      <td>회색인간 작가 김동식 양심고백 등 새 소설집 2권 출간</td>\n",
       "    </tr>\n",
       "    <tr>\n",
       "      <th>...</th>\n",
       "      <td>...</td>\n",
       "    </tr>\n",
       "    <tr>\n",
       "      <th>9126</th>\n",
       "      <td>인천 오후 3시35분 대설주의보…눈 3.1cm 쌓여</td>\n",
       "    </tr>\n",
       "    <tr>\n",
       "      <th>9127</th>\n",
       "      <td>노래방에서 지인 성추행 외교부 사무관 불구속 입건종합</td>\n",
       "    </tr>\n",
       "    <tr>\n",
       "      <th>9128</th>\n",
       "      <td>40년 전 부마항쟁 부산 시위 사진 2점 최초 공개</td>\n",
       "    </tr>\n",
       "    <tr>\n",
       "      <th>9129</th>\n",
       "      <td>게시판 아리랑TV 아프리카개발은행 총회 개회식 생중계</td>\n",
       "    </tr>\n",
       "    <tr>\n",
       "      <th>9130</th>\n",
       "      <td>유영민 과기장관 강소특구는 지역 혁신의 중심…지원책 강구</td>\n",
       "    </tr>\n",
       "  </tbody>\n",
       "</table>\n",
       "<p>9131 rows × 1 columns</p>\n",
       "</div>"
      ],
      "text/plain": [
       "                                title\n",
       "0          유튜브 내달 2일까지 크리에이터 지원 공간 운영\n",
       "1             어버이날 맑다가 흐려져…남부지방 옅은 황사\n",
       "2         내년부터 국가RD 평가 때 논문건수는 반영 않는다\n",
       "3     김명자 신임 과총 회장 원로와 젊은 과학자 지혜 모을 것\n",
       "4      회색인간 작가 김동식 양심고백 등 새 소설집 2권 출간\n",
       "...                               ...\n",
       "9126     인천 오후 3시35분 대설주의보…눈 3.1cm 쌓여\n",
       "9127    노래방에서 지인 성추행 외교부 사무관 불구속 입건종합\n",
       "9128     40년 전 부마항쟁 부산 시위 사진 2점 최초 공개\n",
       "9129    게시판 아리랑TV 아프리카개발은행 총회 개회식 생중계\n",
       "9130  유영민 과기장관 강소특구는 지역 혁신의 중심…지원책 강구\n",
       "\n",
       "[9131 rows x 1 columns]"
      ]
     },
     "execution_count": 7,
     "metadata": {},
     "output_type": "execute_result"
    }
   ],
   "source": [
    "test"
   ]
  },
  {
   "cell_type": "code",
   "execution_count": 8,
   "id": "026a90c9",
   "metadata": {},
   "outputs": [
    {
     "name": "stdout",
     "output_type": "stream",
     "text": [
      "결측값 여부 : False\n"
     ]
    }
   ],
   "source": [
    "print('결측값 여부 :',train.isnull().values.any())"
   ]
  },
  {
   "cell_type": "code",
   "execution_count": 9,
   "id": "5362113a",
   "metadata": {},
   "outputs": [
    {
     "data": {
      "text/plain": [
       "<Axes: title={'center': 'Samples per each class (Training set)'}, xlabel='topic_idx'>"
      ]
     },
     "execution_count": 9,
     "metadata": {},
     "output_type": "execute_result"
    },
    {
     "data": {
      "image/png": "[encoded data removed]",
      "text/plain": [
       "<Figure size 640x480 with 1 Axes>"
      ]
     },
     "metadata": {},
     "output_type": "display_data"
    }
   ],
   "source": [
    "# 분포도 확인 \n",
    "train.groupby(train.topic_idx).size().reset_index(name=\"counts\").plot.bar(x='topic_idx',title=\"Samples per each class (Training set)\")"
   ]
  },
  {
   "cell_type": "code",
   "execution_count": 10,
   "id": "23abdd40",
   "metadata": {},
   "outputs": [
    {
     "data": {
      "image/png": "[encoded data removed]",
      "text/plain": [
       "<Figure size 640x480 with 1 Axes>"
      ]
     },
     "metadata": {},
     "output_type": "display_data"
    },
    {
     "name": "stdout",
     "output_type": "stream",
     "text": [
      "가장 긴 문장은 13개의 단어를, 가장 짧은 문장은 1개의 단어를 가지고 있습니다.\n"
     ]
    }
   ],
   "source": [
    "# 문장 길이 계산 (단어 수)\n",
    "train['doc_len'] = train.title.apply(lambda words: len(words.split()))\n",
    "\n",
    "def plot_doc_lengths(dataframe):\n",
    "    mean_seq_len = np.round(dataframe['doc_len'].mean()).astype(int)\n",
    "    \n",
    "    # distplot -> displot 또는 histplot으로 변경\n",
    "    sns.histplot(dataframe['doc_len'], kde=True, label='Document lengths')\n",
    "    \n",
    "    # 평균 길이 선 추가\n",
    "    plt.axvline(x=mean_seq_len, color='k', linestyle='--', label=f'Sequence length mean: {mean_seq_len}')\n",
    "    \n",
    "    plt.title('Document lengths')\n",
    "    plt.legend()\n",
    "    plt.show()\n",
    "    \n",
    "    # 가장 긴 문장과 가장 짧은 문장의 단어 수 출력\n",
    "    print(f\"가장 긴 문장은 {train['doc_len'].max()}개의 단어를, 가장 짧은 문장은 {train['doc_len'].min()}개의 단어를 가지고 있습니다.\")\n",
    "\n",
    "# 함수 실행\n",
    "plot_doc_lengths(train)\n"
   ]
  },
  {
   "cell_type": "markdown",
   "id": "8e8a08f0",
   "metadata": {},
   "source": [
    "#### [ 데이터셋 분리 ]<hr>"
   ]
  },
  {
   "cell_type": "code",
   "execution_count": 11,
   "id": "8cfcb4be",
   "metadata": {},
   "outputs": [],
   "source": [
    "## 데이터셋 : 학습용/검증용/테스트용 분리\n",
    "from sklearn.model_selection import train_test_split\n",
    "\n",
    "X_train, X_test, y_train, y_test = train_test_split(train['title'], train['topic_idx'], \n",
    "                                                    test_size=0.5, \n",
    "                                                    random_state=0, \n",
    "                                                    stratify=train['topic_idx'])"
   ]
  },
  {
   "cell_type": "code",
   "execution_count": 12,
   "id": "2f191c3a",
   "metadata": {},
   "outputs": [],
   "source": [
    "X_train, X_valid, y_train, y_valid = train_test_split(X_train, y_train, \n",
    "                                                      test_size=.2, \n",
    "                                                      random_state=0, \n",
    "                                                      stratify=y_train)"
   ]
  },
  {
   "cell_type": "code",
   "execution_count": 13,
   "id": "970bac9f",
   "metadata": {},
   "outputs": [
    {
     "name": "stdout",
     "output_type": "stream",
     "text": [
      "--------훈련 데이터의 비율-----------\n",
      "IT과학 = 10.563%\n",
      "경제 = 13.63%\n",
      "사회 = 16.127%\n",
      "생활문화 = 12.995%\n",
      "세계 = 16.708%\n",
      "스포츠 = 15.185%\n",
      "정치 = 14.791%\n",
      "--------검증 데이터의 비율-----------\n",
      "IT과학 = 10.578%\n",
      "경제 = 13.622%\n",
      "사회 = 16.119%\n",
      "생활문화 = 13.009%\n",
      "세계 = 16.71%\n",
      "스포츠 = 15.177%\n",
      "정치 = 14.783%\n"
     ]
    }
   ],
   "source": [
    "print('--------훈련 데이터의 비율-----------')\n",
    "print(f'IT과학 = {round(y_train.value_counts()[0]/len(y_train) * 100,3)}%')\n",
    "print(f'경제 = {round(y_train.value_counts()[1]/len(y_train) * 100,3)}%')\n",
    "print(f'사회 = {round(y_train.value_counts()[2]/len(y_train) * 100,3)}%')\n",
    "print(f'생활문화 = {round(y_train.value_counts()[3]/len(y_train) * 100,3)}%')\n",
    "print(f'세계 = {round(y_train.value_counts()[4]/len(y_train) * 100,3)}%')\n",
    "print(f'스포츠 = {round(y_train.value_counts()[5]/len(y_train) * 100,3)}%')\n",
    "print(f'정치 = {round(y_train.value_counts()[6]/len(y_train) * 100,3)}%')\n",
    "print('--------검증 데이터의 비율-----------')\n",
    "print(f'IT과학 = {round(y_valid.value_counts()[0]/len(y_valid) * 100,3)}%')\n",
    "print(f'경제 = {round(y_valid.value_counts()[1]/len(y_valid) * 100,3)}%')\n",
    "print(f'사회 = {round(y_valid.value_counts()[2]/len(y_valid) * 100,3)}%')\n",
    "print(f'생활문화 = {round(y_valid.value_counts()[3]/len(y_valid) * 100,3)}%')\n",
    "print(f'세계 = {round(y_valid.value_counts()[4]/len(y_valid) * 100,3)}%')\n",
    "print(f'스포츠 = {round(y_valid.value_counts()[5]/len(y_valid) * 100,3)}%')\n",
    "print(f'정치 = {round(y_valid.value_counts()[6]/len(y_valid) * 100,3)}%')"
   ]
  },
  {
   "cell_type": "markdown",
   "id": "76d79608",
   "metadata": {},
   "source": [
    "[ 단어사전 생성 ]<hr>"
   ]
  },
  {
   "cell_type": "code",
   "execution_count": 14,
   "id": "887772a8",
   "metadata": {},
   "outputs": [],
   "source": [
    "# from konlpy.tag import Komoran\n",
    "\n",
    "# # Komoran 객체 생성\n",
    "# komoran = Komoran()\n",
    "\n",
    "# # train 데이터프레임에서 35만 개만 선택\n",
    "# train_sample = train.head(400000)\n",
    "\n",
    "# # 형태소 분석 및 명사 추출\n",
    "# # 여러 문장에 대해 분석을 수행할 때는 apply를 사용하여 각 문장을 처리\n",
    "# morphs = train_sample['title'].apply(komoran.morphs)\n",
    "# nouns = train_sample['title'].apply(komoran.nouns)\n",
    "\n",
    "# # 첫 10개의 결과만 출력\n",
    "# print(\"형태소 분석 (첫 10개 문장):\", morphs.head(10))\n",
    "# print(\"명사 추출 (첫 10개 문장):\", nouns.head(10))"
   ]
  },
  {
   "cell_type": "code",
   "execution_count": 15,
   "id": "ae1a4ee6",
   "metadata": {},
   "outputs": [],
   "source": [
    "# train 데이터프레임에서 40만 개만 선택\n",
    "X_train_sample = X_train.head(400000)\n",
    "X_valid_sample = X_valid.head(400000)"
   ]
  },
  {
   "cell_type": "code",
   "execution_count": 16,
   "id": "752c1af5",
   "metadata": {},
   "outputs": [],
   "source": [
    "# 불용어 파일 로드\n",
    "STOPWORD_FILE = r'C:\\Users\\KDT-37\\Desktop\\KDT_7\\11_NLP\\D250409\\koreanStopwords_unique.txt'\n",
    "\n",
    "with open(STOPWORD_FILE, mode='r', encoding='utf-8') as f:\n",
    "    stop_words = f.readlines()\n",
    "\n",
    "stop_words = [word.replace('\\n', '') for word in stop_words]"
   ]
  },
  {
   "cell_type": "code",
   "execution_count": 17,
   "id": "40c9766c",
   "metadata": {},
   "outputs": [],
   "source": [
    "# 한국어 구두점 리스트\n",
    "korean_punctuation = ['.', ',', '!', '?', '(', ')', '[', ']', '{', '}', '-', '...', '\"',':', ';', '•']"
   ]
  },
  {
   "cell_type": "code",
   "execution_count": 18,
   "id": "f9a18b50",
   "metadata": {},
   "outputs": [],
   "source": [
    "from konlpy.tag import Komoran\n",
    "import string\n",
    "\n",
    "komoran = Komoran() \n",
    "# 토큰화 진행 기능 함수\n",
    "def tokenize(sentences):\n",
    "    tokenized_sentences = []\n",
    "\n",
    "    # tqdm을 사용하여 진행 상태를 출력\n",
    "    for sent in tqdm(sentences, total=len(sentences)):\n",
    "        sent = str(sent)\n",
    "        print(\"원본 문장:\", sent)\n",
    "        \n",
    "        # 형태소 분석 (morphs는 형태소 단위로 나누는 메서드)\n",
    "        morphs = komoran.morphs(sent)\n",
    "        print(\"형태소 분석:\", morphs)\n",
    "\n",
    "        # 구두점 제거, 불용어 제거\n",
    "        cleaned_tokens = []\n",
    "        for token in morphs:\n",
    "            # 영어 구두점과 한국어 구두점 및 불용어를 제거\n",
    "            if token not in string.punctuation and token not in korean_punctuation and token not in stop_words:\n",
    "                cleaned_tokens.append(token)\n",
    "\n",
    "        tokenized_sentences.append(cleaned_tokens)\n",
    "\n",
    "    return tokenized_sentences"
   ]
  },
  {
   "cell_type": "code",
   "execution_count": 19,
   "id": "02f394f2",
   "metadata": {},
   "outputs": [
    {
     "data": {
      "text/plain": [
       "23707          LG전자 3년간 영국 FA컵 후원…스포츠 마케팅 강화\n",
       "3690        박정아·이다영 합류 女배구 대표팀 12일 월드컵 위해 출국\n",
       "18514                  그래픽 서울·부산 집값 내년 하락 한은\n",
       "34396           북한 장거리미사일 발사…청와대 NSC 긴급 소집종합\n",
       "18003    프로배구 FA 30일 공시…여자부 원톱 양효진 현대건설 잔...\n",
       "Name: title, dtype: object"
      ]
     },
     "execution_count": 19,
     "metadata": {},
     "output_type": "execute_result"
    }
   ],
   "source": [
    "X_train_sample.head(5)\n"
   ]
  },
  {
   "cell_type": "code",
   "execution_count": 20,
   "id": "bb379156",
   "metadata": {},
   "outputs": [],
   "source": [
    "from konlpy.tag import Komoran\n",
    "import string\n",
    "from tqdm import tqdm\n",
    "\n",
    "# Komoran 객체 생성 (형태소 분석기)\n",
    "komoran = Komoran()  # Komoran을 클래스처럼 사용하여 인스턴스를 생성\n",
    "\n",
    "# 불용어 리스트 로드 (예시 경로)\n",
    "STOPWORD_FILE = r'C:\\Users\\KDT-37\\Desktop\\KDT_7\\11_NLP\\D250409\\koreanStopwords_unique.txt'\n",
    "\n",
    "with open(STOPWORD_FILE, mode='r', encoding='utf-8') as f:\n",
    "    stop_words = f.readlines()\n",
    "\n",
    "# 불용어 리스트에서 줄바꿈 제거\n",
    "stop_words = [word.replace('\\n', '') for word in stop_words]\n",
    "\n",
    "# 한국어 구두점 리스트\n",
    "korean_punctuation = ['∼','%', '.', ',', '!', '?', '(', ')', '[', ']', '{', '}', '-', '...', '\"', ':', ';', '·', '…']\n",
    "\n",
    "\n",
    "# 한국어 자음 리스트\n",
    "korean_consonants = ['ㄱ', 'ㄲ', 'ㄴ', 'ㄷ', 'ㄸ', 'ㄹ', 'ㅁ', 'ㅂ', 'ㅃ', 'ㅅ', 'ㅆ', 'ㅇ', \n",
    "                     'ㅈ', 'ㅉ', 'ㅊ', 'ㅋ', 'ㅌ', 'ㅍ', 'ㅎ']\n",
    "\n",
    "\n",
    "# 토큰화 진행 기능 함수\n",
    "def tokenize(sentences):\n",
    "    tokenized_sentences = []\n",
    "\n",
    "    # tqdm을 사용하여 진행 상태를 출력\n",
    "    for sent in tqdm(sentences, total=len(sentences)):\n",
    "        sent = str(sent)\n",
    "\n",
    "        # 형태소 분석 (morphs는 형태소 단위로 나누는 메서드)\n",
    "        morphs = komoran.morphs(sent)\n",
    "\n",
    "        # 구두점, 불용어, 숫자, 조사 제거\n",
    "        cleaned_tokens = []\n",
    "        for token in morphs:\n",
    "            # 한국어 구두점, 불용어, 숫자, 조사 제거\n",
    "            if token not in korean_punctuation and token not in stop_words and not token.isdigit() and token not in korean_consonants:\n",
    "                cleaned_tokens.append(token)\n",
    "\n",
    "        tokenized_sentences.append(cleaned_tokens)\n",
    "\n",
    "    return tokenized_sentences\n",
    "\n"
   ]
  },
  {
   "cell_type": "code",
   "execution_count": 21,
   "id": "5e5e61a6",
   "metadata": {},
   "outputs": [
    {
     "name": "stderr",
     "output_type": "stream",
     "text": [
      "100%|██████████| 18261/18261 [00:07<00:00, 2297.34it/s]\n",
      "100%|██████████| 4566/4566 [00:02<00:00, 2207.70it/s]"
     ]
    },
    {
     "name": "stdout",
     "output_type": "stream",
     "text": [
      "토큰화된 결과: [['LG전자', '3년', '간', '영국', 'FA컵', '후원', '스포츠', '마케팅', '강화'], ['박정아', '이다영', '합류', '女', '배구', '대표', '팀', '월드컵', '출국'], ['그래픽', '서울', '부산', '집값', '내년', '하락'], ['북한', '장거리', '미사일', '발사', '청와대', 'NSC', '긴급', '소집', '종합'], ['프로', '배구', 'FA', '공시', '여자부', '톱', '양효진', '현대건설', '잔'], ['노트', '판매', '만원', '대설', '솔솔', '고민', '깊', '삼성'], ['기자', '통', '신내역', '조회', '검찰', '규탄', '회견'], ['글로벌', '테러', '공포', '관광', '대국', '태국', '국내', '관광', '활성', '화', '전략', '선회'], ['호주', '시드니', '주거', '용', '부동산', '연간', '임대료', '15년', '간', '최대', '하락'], ['LG유플러스', '산업', '용', 'IoT', '선점', '4월', '칩', '세트', '무상', '공급']]\n",
      "토큰화된 결과: [['그래픽', '지난해', '수도권', '주택', '구입', '가격', '연소득', '배'], ['제주', '향토음식', '지역', '고유문화', '전하', '메신저', '역할'], ['中', '美', '대만', '무기', '판매', '강력', '경고', '필요', '모든', '조치'], ['마', '레즈', '레스터', '시티', '요청', '이제', '떠나'], ['새', '유전자', '가위', '세균', '유전자', '교정', '가능'], ['北', '김정은', '추석', '맞', '열', '사릉', '조화', '고위', '간부', '참배'], ['캐비닛', '문건', '야당', '의리', '홍', '남', '가슴', '아프', '지적'], ['유엔', '위원회', '核', '결의안', '北', '차', '핵실험', '규탄', '포함', '종합'], ['스위스', '이어', '러시아', '대북', '금융', '거래', '전면', '금지'], ['인간', '존재', '불가해', '묻', '박', '지리', '소설', '번외']]\n"
     ]
    },
    {
     "name": "stderr",
     "output_type": "stream",
     "text": [
      "\n"
     ]
    }
   ],
   "source": [
    "# X_train에서 'title' 컬럼만 리스트로 변환하여 토큰화 함수에 적용\n",
    "tokenized_X_train = tokenize(X_train_sample)\n",
    "tokenized_X_valid = tokenize(X_valid_sample)\n",
    "\n",
    "\n",
    "# 결과 출력\n",
    "print(\"토큰화된 결과:\", tokenized_X_train[:10])  # 앞 5개만 출력하여 확인\n",
    "print(\"토큰화된 결과:\", tokenized_X_valid[:10])\n"
   ]
  },
  {
   "cell_type": "code",
   "execution_count": 22,
   "id": "3da5a56d",
   "metadata": {},
   "outputs": [
    {
     "name": "stdout",
     "output_type": "stream",
     "text": [
      "tokenized_X_valid : 18261개\n",
      "tokenized_X_valid : 4566개\n"
     ]
    }
   ],
   "source": [
    "print(f'tokenized_X_valid : {len(tokenized_X_train)}개')\n",
    "print(f'tokenized_X_valid : {len(tokenized_X_valid)}개')"
   ]
  },
  {
   "cell_type": "code",
   "execution_count": 23,
   "id": "e29c5017",
   "metadata": {},
   "outputs": [
    {
     "name": "stdout",
     "output_type": "stream",
     "text": [
      "['LG전자', '3년', '간', '영국', 'FA컵', '후원', '스포츠', '마케팅', '강화']\n",
      "['박정아', '이다영', '합류', '女', '배구', '대표', '팀', '월드컵', '출국']\n"
     ]
    }
   ],
   "source": [
    "# 상위 샘플 2개 출력\n",
    "for sent in tokenized_X_train[:2]:\n",
    "  print(sent)"
   ]
  },
  {
   "cell_type": "code",
   "execution_count": 24,
   "id": "05cf6834",
   "metadata": {},
   "outputs": [
    {
     "name": "stdout",
     "output_type": "stream",
     "text": [
      "['그래픽', '지난해', '수도권', '주택', '구입', '가격', '연소득', '배']\n",
      "['제주', '향토음식', '지역', '고유문화', '전하', '메신저', '역할']\n"
     ]
    }
   ],
   "source": [
    "# 상위 샘플 2개 출력\n",
    "for sent in tokenized_X_valid[:2]:\n",
    "  print(sent)"
   ]
  },
  {
   "cell_type": "markdown",
   "id": "d18c3270",
   "metadata": {},
   "source": [
    "#### [ Vocab 생성 ]<hr>"
   ]
  },
  {
   "cell_type": "code",
   "execution_count": 25,
   "id": "cb6b028e",
   "metadata": {},
   "outputs": [
    {
     "name": "stdout",
     "output_type": "stream",
     "text": [
      "총 단어수 : 19617\n"
     ]
    }
   ],
   "source": [
    "## Vocab 생성 시 단어 빈도 처리 위한 python기본 모듈\n",
    "from collections import Counter\n",
    "\n",
    "word_list = []\n",
    "for sent in tokenized_X_train:\n",
    "    for word in sent:\n",
    "      word_list.append(word)\n",
    "\n",
    "word_counts = Counter(word_list)\n",
    "print('총 단어수 :', len(word_counts))"
   ]
  },
  {
   "cell_type": "code",
   "execution_count": 26,
   "id": "6f66358f",
   "metadata": {},
   "outputs": [
    {
     "name": "stdout",
     "output_type": "stream",
     "text": [
      "등장 빈도수 상위 100개 단어\n",
      "['종합', '대통령', '美', '北', '억', '전', '위', '대', '한국', '시', '천', '감독', '이란', '화', '출시', '게시판', '경기', '中', '신간', '대표', '트럼프', '게', '성', '朴', '프로', '팀', '서울', '문', '조', '차', '정부', '개발', 'KT', '농구', '분기', '새', '지원', '시장', 'G', '비', '금융', '투자', '수', '권', '작년', '배구', '영업', '공개', '日', '미', '최고', '가능', '라', '세계', '미국', '중국', '기술', '올해', '개최', '면', '총리', '축구', '전국', '간', '최대', '당', '피', '삼성', '김정은', '코로나', 'AI', '그래픽', '기업', '국내', '류현진', '장', '호', '靑', '내일', '미래', '북', '여행', '후', '북한', '월드컵', '터키', '시즌', '대회', '서비스', '재', '방문', '민주', '형', '내년', '축제', '강화', '경제', '추진', '보다', '장관']\n"
     ]
    }
   ],
   "source": [
    "vocab = sorted(word_counts, key=word_counts.get, reverse=True)\n",
    "print('등장 빈도수 상위 100개 단어')\n",
    "print(vocab[:100])"
   ]
  },
  {
   "cell_type": "code",
   "execution_count": 27,
   "id": "f2bafdd4",
   "metadata": {},
   "outputs": [
    {
     "name": "stdout",
     "output_type": "stream",
     "text": [
      "단어 집합(vocabulary)의 크기 : 19617\n",
      "등장 빈도가 2번 이하인 희귀 단어의 수: 11425\n",
      "단어 집합에서 희귀 단어의 비율: 58.24030177906917\n",
      "전체 등장 빈도에서 희귀 단어 등장 빈도 비율: 9.549950215731828\n"
     ]
    }
   ],
   "source": [
    "threshold  = 3\n",
    "total_cnt  = len(word_counts) # 단어의 수\n",
    "rare_cnt   = 0 # 등장 빈도수가 threshold보다 작은 단어의 개수를 카운트\n",
    "total_freq = 0 # 훈련 데이터의 전체 단어 빈도수 총 합\n",
    "rare_freq  = 0 # 등장 빈도수가 threshold보다 작은 단어의 등장 빈도수의 총 합\n",
    "\n",
    "# 단어와 빈도수의 쌍(pair)을 key와 value로 받는다.\n",
    "for key, value in word_counts.items():\n",
    "    total_freq = total_freq + value\n",
    "\n",
    "    # 단어의 등장 빈도수가 threshold보다 작으면\n",
    "    if(value < threshold):\n",
    "        rare_cnt = rare_cnt + 1\n",
    "        rare_freq = rare_freq + value\n",
    "\n",
    "print('단어 집합(vocabulary)의 크기 :',total_cnt)\n",
    "print('등장 빈도가 %s번 이하인 희귀 단어의 수: %s'%(threshold - 1, rare_cnt))\n",
    "print(\"단어 집합에서 희귀 단어의 비율:\", (rare_cnt / total_cnt)*100)\n",
    "print(\"전체 등장 빈도에서 희귀 단어 등장 빈도 비율:\", (rare_freq / total_freq)*100)"
   ]
  },
  {
   "cell_type": "code",
   "execution_count": 28,
   "id": "808d1cce",
   "metadata": {},
   "outputs": [],
   "source": [
    "## 단어사전 -> 단어:정수값\n",
    "word_to_index = {}\n",
    "word_to_index['<PAD>'] = 0\n",
    "word_to_index['<UNK>'] = 1"
   ]
  },
  {
   "cell_type": "code",
   "execution_count": 29,
   "id": "167369fe",
   "metadata": {},
   "outputs": [],
   "source": [
    "for index, word in enumerate(vocab) :\n",
    "  word_to_index[word] = index + 2"
   ]
  },
  {
   "cell_type": "code",
   "execution_count": 30,
   "id": "4072b245",
   "metadata": {},
   "outputs": [
    {
     "name": "stdout",
     "output_type": "stream",
     "text": [
      "패딩 토큰과 UNK 토큰을 고려한 단어 집합의 크기 : 19619\n"
     ]
    }
   ],
   "source": [
    "vocab_size = len(word_to_index)\n",
    "print('패딩 토큰과 UNK 토큰을 고려한 단어 집합의 크기 :', vocab_size)"
   ]
  },
  {
   "cell_type": "code",
   "execution_count": 31,
   "id": "16abda50",
   "metadata": {},
   "outputs": [
    {
     "name": "stdout",
     "output_type": "stream",
     "text": [
      "단어 <PAD>와 맵핑되는 정수 : 0\n",
      "단어 <UNK>와 맵핑되는 정수 : 1\n"
     ]
    }
   ],
   "source": [
    "print('단어 <PAD>와 맵핑되는 정수 :', word_to_index['<PAD>'])\n",
    "print('단어 <UNK>와 맵핑되는 정수 :', word_to_index['<UNK>'])"
   ]
  },
  {
   "cell_type": "markdown",
   "id": "e68dba2b",
   "metadata": {},
   "source": [
    "#### [ 정수 인코딩 ]<hr>"
   ]
  },
  {
   "cell_type": "code",
   "execution_count": 32,
   "id": "d9a6170b",
   "metadata": {},
   "outputs": [],
   "source": [
    "## 문장단위 추출 후 단어들을 정수로 인코딩 진행 함수\n",
    "def texts_to_sequences(tokenized_X_data, word_to_index):\n",
    "  encoded_X_data = []\n",
    "  for sent in tokenized_X_data:\n",
    "    index_sequences = []\n",
    "    for word in sent:\n",
    "      try:\n",
    "          index_sequences.append(word_to_index[word])\n",
    "      except KeyError:\n",
    "          index_sequences.append(word_to_index['<UNK>'])\n",
    "    encoded_X_data.append(index_sequences)\n",
    "  return encoded_X_data"
   ]
  },
  {
   "cell_type": "code",
   "execution_count": 33,
   "id": "cad7b47a",
   "metadata": {},
   "outputs": [],
   "source": [
    "encoded_X_train = texts_to_sequences(tokenized_X_train, word_to_index)\n",
    "encoded_X_valid = texts_to_sequences(tokenized_X_valid, word_to_index)"
   ]
  },
  {
   "cell_type": "code",
   "execution_count": 34,
   "id": "01919421",
   "metadata": {},
   "outputs": [
    {
     "name": "stdout",
     "output_type": "stream",
     "text": [
      "[405, 747, 65, 637, 1775, 1680, 840, 1530, 97]\n",
      "[6518, 4115, 786, 1214, 47, 21, 27, 86, 1167]\n"
     ]
    }
   ],
   "source": [
    "# 상위 샘플 2개 출력\n",
    "for sent in encoded_X_train[:2]:\n",
    "  print(sent)"
   ]
  },
  {
   "cell_type": "code",
   "execution_count": 35,
   "id": "f7b1252d",
   "metadata": {},
   "outputs": [],
   "source": [
    "# 정수 -> 단어 변환 사전(예 : 영한사전, 기계어자연어사전)\n",
    "index_to_word = {}\n",
    "for key, value in word_to_index.items():\n",
    "    index_to_word[value] = key"
   ]
  },
  {
   "cell_type": "code",
   "execution_count": 36,
   "id": "3157396b",
   "metadata": {},
   "outputs": [
    {
     "name": "stdout",
     "output_type": "stream",
     "text": [
      "기존의 두번째 샘플 : ['박정아', '이다영', '합류', '女', '배구', '대표', '팀', '월드컵', '출국']\n",
      "복원된 두번째 샘플 : ['박정아', '이다영', '합류', '女', '배구', '대표', '팀', '월드컵', '출국']\n"
     ]
    }
   ],
   "source": [
    "decoded_sample = [index_to_word[word] for word in encoded_X_train[1]]\n",
    "print('기존의 두번째 샘플 :', tokenized_X_train[1])\n",
    "print('복원된 두번째 샘플 :', decoded_sample)"
   ]
  },
  {
   "cell_type": "markdown",
   "id": "ec4f18da",
   "metadata": {},
   "source": [
    "#### [ 패딩 ]<hr>"
   ]
  },
  {
   "cell_type": "code",
   "execution_count": 37,
   "id": "af489685",
   "metadata": {},
   "outputs": [
    {
     "name": "stdout",
     "output_type": "stream",
     "text": [
      "뉴스 제목의 최대 길이 : 17\n",
      "뉴스 제목의 평균 길이 : 8.249822025080773\n"
     ]
    },
    {
     "data": {
      "image/png": "[encoded data removed]",
      "text/plain": [
       "<Figure size 640x480 with 1 Axes>"
      ]
     },
     "metadata": {},
     "output_type": "display_data"
    }
   ],
   "source": [
    "print('뉴스 제목의 최대 길이 :',max(len(review) for review in encoded_X_train))\n",
    "print('뉴스 제목의 평균 길이 :',sum(map(len, encoded_X_train))/len(encoded_X_train))\n",
    "plt.hist([len(review) for review in encoded_X_train], bins=50)\n",
    "plt.xlabel('length of samples')\n",
    "plt.ylabel('number of samples')\n",
    "plt.show()"
   ]
  },
  {
   "cell_type": "code",
   "execution_count": 38,
   "id": "9404c2a1",
   "metadata": {},
   "outputs": [],
   "source": [
    "def pad_sequences(sentences, max_len):\n",
    "  features = np.zeros((len(sentences), max_len), dtype=int)\n",
    "  for index, sentence in enumerate(sentences):\n",
    "    if len(sentence) != 0:\n",
    "      features[index, :len(sentence)] = np.array(sentence)[:max_len]\n",
    "  return features"
   ]
  },
  {
   "cell_type": "code",
   "execution_count": 39,
   "id": "df18bd76",
   "metadata": {},
   "outputs": [],
   "source": [
    "padded_X_train = pad_sequences(encoded_X_train, max_len=17)\n",
    "padded_X_valid = pad_sequences(encoded_X_valid, max_len=17)"
   ]
  },
  {
   "cell_type": "code",
   "execution_count": 40,
   "id": "85bcdbe6",
   "metadata": {},
   "outputs": [
    {
     "name": "stdout",
     "output_type": "stream",
     "text": [
      "훈련 데이터의 크기 : (18261, 17)\n",
      "검증 데이터의 크기 : (4566, 17)\n"
     ]
    }
   ],
   "source": [
    "print('훈련 데이터의 크기 :', padded_X_train.shape)\n",
    "print('검증 데이터의 크기 :', padded_X_valid.shape)"
   ]
  },
  {
   "cell_type": "code",
   "execution_count": 41,
   "id": "ddfe4a30",
   "metadata": {},
   "outputs": [
    {
     "name": "stdout",
     "output_type": "stream",
     "text": [
      "(18261, 17)\n"
     ]
    }
   ],
   "source": [
    "print(padded_X_train.shape[:2])"
   ]
  },
  {
   "cell_type": "markdown",
   "id": "6cdeed88",
   "metadata": {},
   "source": [
    "#### [ 모델링 ] <hr>"
   ]
  },
  {
   "cell_type": "code",
   "execution_count": 42,
   "id": "51525146",
   "metadata": {},
   "outputs": [],
   "source": [
    "train_label_tensor = torch.tensor(np.array(y_train))\n",
    "valid_label_tensor = torch.tensor(np.array(y_valid))"
   ]
  },
  {
   "cell_type": "code",
   "execution_count": 43,
   "id": "2b3c3f46",
   "metadata": {},
   "outputs": [
    {
     "data": {
      "text/plain": [
       "tensor([1, 5, 1, 6, 5])"
      ]
     },
     "execution_count": 43,
     "metadata": {},
     "output_type": "execute_result"
    }
   ],
   "source": [
    "train_label_tensor[:5]"
   ]
  },
  {
   "cell_type": "code",
   "execution_count": 44,
   "id": "4479591c",
   "metadata": {},
   "outputs": [
    {
     "name": "stdout",
     "output_type": "stream",
     "text": [
      "cpu와 cuda 중 다음 기기로 학습함: cpu\n"
     ]
    }
   ],
   "source": [
    "USE_CUDA = torch.cuda.is_available()\n",
    "device = torch.device(\"cuda\" if USE_CUDA else \"cpu\")\n",
    "print(\"cpu와 cuda 중 다음 기기로 학습함:\", device)"
   ]
  },
  {
   "cell_type": "code",
   "execution_count": 70,
   "id": "bc861dd8",
   "metadata": {},
   "outputs": [],
   "source": [
    "class RNNClassifier(nn.Module):\n",
    "    def __init__(self, vocab_size, embed_dim, hidden_dim, output_dim, num_layers=2, dropout=0.4, bidirectional=False):\n",
    "        super(RNNClassifier, self).__init__()\n",
    "        self.embedding = nn.Embedding(vocab_size, embed_dim, padding_idx=0)\n",
    "        self.rnn = nn.RNN(embed_dim, hidden_dim, \n",
    "                          num_layers=num_layers, \n",
    "                          batch_first=True,\n",
    "                          bidirectional=bidirectional)\n",
    "        self.dropout = nn.Dropout(dropout)\n",
    "        # 만약 양방향이라면 hidden_dim * 2 (앞/뒤 방향 모두 사용)\n",
    "        self.fc = nn.Linear(hidden_dim * 2 if bidirectional else hidden_dim, output_dim)\n",
    "    \n",
    "    def forward(self, x):\n",
    "        embedded = self.embedding(x)\n",
    "        output, hidden = self.rnn(embedded)\n",
    "        \n",
    "        # 양방향일 경우, 마지막 layer의 hidden state를 양방향에서 두 방향의 hidden state를 결합\n",
    "        if self.rnn.bidirectional:\n",
    "            # bidirectional RNN에서는 마지막 layer의 hidden 상태가 [num_layers * 2, batch_size, hidden_dim] 크기\n",
    "            hidden = torch.cat((hidden[-2], hidden[-1]), dim=1)\n",
    "        else:\n",
    "            hidden = hidden[-1]  # 마지막 레이어의 hidden state\n",
    "        \n",
    "        hidden = self.dropout(hidden)\n",
    "        return self.fc(hidden)"
   ]
  },
  {
   "cell_type": "code",
   "execution_count": null,
   "id": "2b3ae12e",
   "metadata": {},
   "outputs": [],
   "source": [
    "from tqdm import tqdm\n",
    "\n",
    "# 모델 학습 함수 (조기 종료 및 최적 모델 저장 포함)\n",
    "def train_model(model, train_loader, valid_loader, criterion, optimizer, epochs=5, patience=3):\n",
    "    model.train()\n",
    "    best_valid_loss = float('inf')  # 최상의 검증 손실 초기화\n",
    "    epochs_without_improvement = 0  # 개선되지 않은 에폭 수\n",
    "    \n",
    "    scheduler = ReduceLROnPlateau(optimizer, mode='min', factor=0.1, patience=5, verbose=True)\n",
    "    \n",
    "    for epoch in range(epochs):\n",
    "        total_loss = 0\n",
    "        all_preds = []  # 모든 예측값을 저장\n",
    "        all_labels = []  # 모든 실제값을 저장\n",
    "        \n",
    "        model.train()  # 학습 모드로 설정\n",
    "        \n",
    "        # tqdm을 사용하여 학습 데이터에 대한 진행 바 표시\n",
    "        for inputs, labels in tqdm(train_loader, desc=f\"Epoch {epoch + 1}/{epochs}\", leave=False):\n",
    "            optimizer.zero_grad()\n",
    "            \n",
    "            inputs = torch.clamp(inputs, max=vocab_size-1)\n",
    "            \n",
    "            # 모델 출력 얻기\n",
    "            outputs = model(inputs)  \n",
    "            \n",
    "            # 손실 계산\n",
    "            loss = criterion(outputs, labels)\n",
    "            \n",
    "            # 역전파 및 최적화\n",
    "            loss.backward()\n",
    "            optimizer.step()\n",
    "            \n",
    "            total_loss += loss.item()\n",
    "            \n",
    "            # 예측값과 실제값을 리스트에 저장\n",
    "            _, predicted = torch.max(outputs, 1)\n",
    "            all_preds.extend(predicted.cpu().numpy())\n",
    "            all_labels.extend(labels.cpu().numpy())\n",
    "        \n",
    "        # 훈련 정확도와 F1 스코어 계산\n",
    "        train_accuracy = accuracy_score(all_labels, all_preds)\n",
    "        train_f1 = f1_score(all_labels, all_preds, average='weighted')\n",
    "        \n",
    "        # 평균 훈련 손실 출력\n",
    "        print(f\"Epoch {epoch + 1}, Training Loss: {total_loss / len(train_loader):.4f}\")\n",
    "        print(f\"Epoch {epoch + 1}, Training Accuracy: {train_accuracy * 100:.2f}%\")\n",
    "        print(f\"Epoch {epoch + 1}, Training F1 Score: {train_f1:.4f}\")\n",
    "        \n",
    "        # 검증 손실 계산\n",
    "        # 에폭마다 검증 손실을 기준으로 학습률 갱신\n",
    "        valid_loss, accuracy, f1 = evaluate_model(model, valid_loader, criterion)\n",
    "        scheduler.step(valid_loss)  # 검증 손실을 기준으로 학습률 감소\n",
    "        print(f\"Epoch {epoch + 1}, Validation Loss: {valid_loss:.4f}, Accuracy: {accuracy * 100:.2f}%, F1 Score: {f1:.4f}\")\n",
    "        \n",
    "        # 조기 종료 조건 체크 (검증 손실이 개선되지 않으면)\n",
    "        if valid_loss < best_valid_loss:\n",
    "            best_valid_loss = valid_loss\n",
    "            epochs_without_improvement = 0\n",
    "            # 모델 저장 (최적 모델)\n",
    "            torch.save(model.state_dict(), \"binary_best_model.pth\")\n",
    "        else:\n",
    "            epochs_without_improvement += 1\n",
    "        \n",
    "        if epochs_without_improvement >= patience:\n",
    "            print(f\"Early stopping triggered after {epoch + 1} epochs.\")\n",
    "            break  # 학습 종료\n"
   ]
  },
  {
   "cell_type": "code",
   "execution_count": 72,
   "id": "68070a53",
   "metadata": {},
   "outputs": [],
   "source": [
    "from tqdm import tqdm  # tqdm 라이브러리 import\n",
    "\n",
    "# 검증 함수 (손실, 정확도, F1-score 계산)\n",
    "def evaluate_model(model, valid_loader, criterion):\n",
    "    model.eval()  # 평가 모드로 설정\n",
    "    total_loss = 0\n",
    "    correct_predictions = 0\n",
    "    total_predictions = 0\n",
    "    all_labels = []\n",
    "    all_preds = []\n",
    "    \n",
    "    with torch.no_grad():  # 평가 시 기울기 계산을 하지 않음\n",
    "        # tqdm을 사용하여 검증 데이터에 대한 진행 바 표시\n",
    "        for inputs, labels in tqdm(valid_loader, desc=\"Validating\", leave=False):\n",
    "            outputs = model(inputs)\n",
    "            loss = criterion(outputs, labels)\n",
    "            \n",
    "            total_loss += loss.item()\n",
    "            \n",
    "            _, predicted = torch.max(outputs, 1)\n",
    "            correct_predictions += (predicted == labels).sum().item()\n",
    "            total_predictions += labels.size(0)\n",
    "            \n",
    "            # 전체 레이블과 예측을 저장하여 F1-score 계산에 사용\n",
    "            all_labels.extend(labels.cpu().numpy())\n",
    "            all_preds.extend(predicted.cpu().numpy())\n",
    "    \n",
    "    avg_loss = total_loss / len(valid_loader)  # 평균 손실 계산\n",
    "    accuracy = correct_predictions / total_predictions  # 정확도 계산\n",
    "    f1 = f1_score(all_labels, all_preds, average='weighted')  # F1-score 계산 (weighted 방식)\n",
    "    \n",
    "    return avg_loss, accuracy, f1\n"
   ]
  },
  {
   "cell_type": "code",
   "execution_count": 73,
   "id": "5f62b1d4",
   "metadata": {},
   "outputs": [],
   "source": [
    "from torch.utils.data import DataLoader, TensorDataset\n",
    "\n",
    "encoded_train = torch.tensor(padded_X_train).to(torch.int64)\n",
    "train_dataset = TensorDataset(encoded_train, train_label_tensor)\n",
    "train_loader = DataLoader(train_dataset, batch_size=64, shuffle=True, drop_last=True)\n",
    "\n",
    "encoded_valid = torch.tensor(padded_X_valid).to(torch.int64)\n",
    "valid_dataset = TensorDataset(encoded_valid, valid_label_tensor)\n",
    "valid_loader = DataLoader(valid_dataset, shuffle=True, batch_size=32, drop_last=True)"
   ]
  },
  {
   "cell_type": "code",
   "execution_count": 74,
   "id": "fb85bde0",
   "metadata": {},
   "outputs": [
    {
     "name": "stdout",
     "output_type": "stream",
     "text": [
      "torch.Size([64, 17])\n"
     ]
    }
   ],
   "source": [
    "for inputs, labels in train_loader:\n",
    "    print(inputs.shape)  # 데이터 크기 확인\n",
    "    break  # 첫 번째 배치만 확인"
   ]
  },
  {
   "cell_type": "code",
   "execution_count": 81,
   "id": "96414ca4",
   "metadata": {},
   "outputs": [],
   "source": [
    "# 모델 인스턴스 생성\n",
    "vocab_size = len(vocab)       # 전체 단어 사전 크기\n",
    "embed_dim = 200               # 임베딩 차원\n",
    "hidden_dim = 256              # RNN hidden state 크기\n",
    "output_dim = 7                # 클래스 수\n",
    "lr = 1e-4\n",
    "num_epochs = 40\n",
    "\n",
    "model = RNNClassifier(vocab_size, embed_dim, hidden_dim, output_dim)\n",
    "criterion = nn.CrossEntropyLoss()\n",
    "optimizer = torch.optim.Adam(model.parameters(), lr= lr )"
   ]
  },
  {
   "cell_type": "code",
   "execution_count": 82,
   "id": "2f89132e",
   "metadata": {},
   "outputs": [
    {
     "name": "stdout",
     "output_type": "stream",
     "text": [
      "Max input index: 19527\n",
      "Min input index: 0\n"
     ]
    }
   ],
   "source": [
    "# 데이터 확인 코드\n",
    "for inputs, labels in train_loader:\n",
    "    print(f\"Max input index: {inputs.max()}\")  # 최대 인덱스 확인\n",
    "    print(f\"Min input index: {inputs.min()}\")  # 최소 인덱스 확인\n",
    "    break"
   ]
  },
  {
   "cell_type": "code",
   "execution_count": 84,
   "id": "d7b1b7c5",
   "metadata": {},
   "outputs": [
    {
     "name": "stderr",
     "output_type": "stream",
     "text": [
      "c:\\Users\\KDT-37\\anaconda3\\envs\\NLP\\lib\\site-packages\\torch\\optim\\lr_scheduler.py:28: UserWarning: The verbose parameter is deprecated. Please use get_last_lr() to access the learning rate.\n",
      "  warnings.warn(\"The verbose parameter is deprecated. Please use get_last_lr() \"\n",
      "                                                             \r"
     ]
    },
    {
     "name": "stdout",
     "output_type": "stream",
     "text": [
      "Epoch 1, Training Loss: 0.4997\n",
      "Epoch 1, Training Accuracy: 83.92%\n",
      "Epoch 1, Training F1 Score: 0.8402\n"
     ]
    },
    {
     "name": "stderr",
     "output_type": "stream",
     "text": [
      "                                                              \r"
     ]
    },
    {
     "name": "stdout",
     "output_type": "stream",
     "text": [
      "Epoch 1, Validation Loss: 1.0101, Accuracy: 67.98%, F1 Score: 0.6849\n"
     ]
    },
    {
     "name": "stderr",
     "output_type": "stream",
     "text": [
      "                                                             \r"
     ]
    },
    {
     "name": "stdout",
     "output_type": "stream",
     "text": [
      "Epoch 2, Training Loss: 0.4638\n",
      "Epoch 2, Training Accuracy: 85.20%\n",
      "Epoch 2, Training F1 Score: 0.8528\n"
     ]
    },
    {
     "name": "stderr",
     "output_type": "stream",
     "text": [
      "                                                              \r"
     ]
    },
    {
     "name": "stdout",
     "output_type": "stream",
     "text": [
      "Epoch 2, Validation Loss: 0.9671, Accuracy: 70.09%, F1 Score: 0.7090\n"
     ]
    },
    {
     "name": "stderr",
     "output_type": "stream",
     "text": [
      "                                                             \r"
     ]
    },
    {
     "name": "stdout",
     "output_type": "stream",
     "text": [
      "Epoch 3, Training Loss: 0.4294\n",
      "Epoch 3, Training Accuracy: 86.55%\n",
      "Epoch 3, Training F1 Score: 0.8662\n"
     ]
    },
    {
     "name": "stderr",
     "output_type": "stream",
     "text": [
      "                                                              \r"
     ]
    },
    {
     "name": "stdout",
     "output_type": "stream",
     "text": [
      "Epoch 3, Validation Loss: 1.0693, Accuracy: 68.53%, F1 Score: 0.6921\n"
     ]
    },
    {
     "name": "stderr",
     "output_type": "stream",
     "text": [
      "                                                             \r"
     ]
    },
    {
     "name": "stdout",
     "output_type": "stream",
     "text": [
      "Epoch 4, Training Loss: 0.3953\n",
      "Epoch 4, Training Accuracy: 87.66%\n",
      "Epoch 4, Training F1 Score: 0.8771\n"
     ]
    },
    {
     "name": "stderr",
     "output_type": "stream",
     "text": [
      "                                                              \r"
     ]
    },
    {
     "name": "stdout",
     "output_type": "stream",
     "text": [
      "Epoch 4, Validation Loss: 1.0304, Accuracy: 69.15%, F1 Score: 0.6944\n"
     ]
    },
    {
     "name": "stderr",
     "output_type": "stream",
     "text": [
      "                                                             \r"
     ]
    },
    {
     "name": "stdout",
     "output_type": "stream",
     "text": [
      "Epoch 5, Training Loss: 0.3688\n",
      "Epoch 5, Training Accuracy: 88.68%\n",
      "Epoch 5, Training F1 Score: 0.8872\n"
     ]
    },
    {
     "name": "stderr",
     "output_type": "stream",
     "text": [
      "                                                              "
     ]
    },
    {
     "name": "stdout",
     "output_type": "stream",
     "text": [
      "Epoch 5, Validation Loss: 0.9950, Accuracy: 71.48%, F1 Score: 0.7170\n",
      "Early stopping triggered after 5 epochs.\n"
     ]
    },
    {
     "name": "stderr",
     "output_type": "stream",
     "text": [
      "\r"
     ]
    }
   ],
   "source": [
    "train_model(model, train_loader, valid_loader, criterion, optimizer, epochs=num_epochs, patience=3)"
   ]
  },
  {
   "cell_type": "code",
   "execution_count": null,
   "id": "ef87a403",
   "metadata": {},
   "outputs": [],
   "source": []
  },
  {
   "cell_type": "code",
   "execution_count": null,
   "id": "f7970b9b",
   "metadata": {},
   "outputs": [],
   "source": []
  }
 ],
 "metadata": {
  "kernelspec": {
   "display_name": "NLP",
   "language": "python",
   "name": "python3"
  },
  "language_info": {
   "codemirror_mode": {
    "name": "ipython",
    "version": 3
   },
   "file_extension": ".py",
   "mimetype": "text/x-python",
   "name": "python",
   "nbconvert_exporter": "python",
   "pygments_lexer": "ipython3",
   "version": "3.8.20"
  }
 },
 "nbformat": 4,
 "nbformat_minor": 5
}
