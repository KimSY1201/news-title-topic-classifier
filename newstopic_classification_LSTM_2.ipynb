{
 "cells": [
  {
   "cell_type": "markdown",
   "id": "bea0edd8",
   "metadata": {},
   "source": [
    "#### [ 뉴스 토픽 분류 AI ]\n",
    "- 다중 분류 모델\n",
    "- 한국어 뉴스 헤드라인을 이용하여, 뉴스의 주제를 분류하는 알고리즘 개발"
   ]
  },
  {
   "cell_type": "code",
   "execution_count": 1,
   "id": "97e68eeb",
   "metadata": {},
   "outputs": [
    {
     "name": "stderr",
     "output_type": "stream",
     "text": [
      "c:\\Users\\KDT-37\\anaconda3\\envs\\NLP\\lib\\site-packages\\tqdm\\auto.py:21: TqdmWarning: IProgress not found. Please update jupyter and ipywidgets. See https://ipywidgets.readthedocs.io/en/stable/user_install.html\n",
      "  from .autonotebook import tqdm as notebook_tqdm\n"
     ]
    }
   ],
   "source": [
    "# ------ LIBRARY -------#\n",
    "import numpy as np\n",
    "import os\n",
    "import pickle\n",
    "import sys\n",
    "import pandas as pd\n",
    "import re\n",
    "import seaborn as sns\n",
    "\n",
    "# torch\n",
    "import torch\n",
    "import torch.cuda.amp as amp\n",
    "from torch.utils.data.dataset import Dataset\n",
    "from torch.utils.data import DataLoader\n",
    "from torch.utils.data.sampler import *\n",
    "\n",
    "import torch.nn as nn\n",
    "import torch.nn.functional as F\n",
    "\n",
    "from torch.optim.lr_scheduler import CosineAnnealingWarmRestarts, CosineAnnealingLR, ReduceLROnPlateau, MultiStepLR, OneCycleLR\n",
    "\n",
    "#\n",
    "\n",
    "import math\n",
    "import torch\n",
    "from torch.optim.optimizer import Optimizer, required\n",
    "import torch_optimizer as optim\n",
    "from collections import defaultdict\n",
    "import itertools as it\n",
    "\n",
    "import tqdm\n",
    "import random\n",
    "\n",
    "#import time\n",
    "import matplotlib.pyplot as plt\n",
    "from timeit import default_timer as timer\n",
    "from sklearn.model_selection import KFold\n",
    "from sklearn.metrics import f1_score\n",
    "from sklearn.preprocessing import LabelEncoder\n",
    "from sklearn.preprocessing import StandardScaler\n",
    "from sklearn.metrics import accuracy_score\n",
    "import torch\n",
    "import transformers\n",
    "\n",
    "# transformer\n",
    "from transformers import XLMPreTrainedModel, XLMRobertaModel, XLMRobertaConfig, XLMRobertaTokenizer\n",
    "from transformers import XLMRobertaForSequenceClassification, BertForSequenceClassification\n",
    "from transformers import AutoTokenizer\n",
    "from transformers import BertForSequenceClassification, DistilBertForSequenceClassification, XLNetForSequenceClassification,\\\n",
    "XLMRobertaForSequenceClassification, XLMForSequenceClassification, RobertaForSequenceClassification\n",
    "from transformers import AdamW\n",
    "from transformers import get_linear_schedule_with_warmup"
   ]
  },
  {
   "cell_type": "code",
   "execution_count": 2,
   "id": "00a2e7ff",
   "metadata": {},
   "outputs": [],
   "source": [
    "train=pd.read_csv('./data/open/train_data.csv')\n",
    "test=pd.read_csv('./data/open/test_data.csv')"
   ]
  },
  {
   "cell_type": "code",
   "execution_count": 3,
   "id": "d985832f",
   "metadata": {},
   "outputs": [],
   "source": [
    "train=train[['title','topic_idx']]\n",
    "test=test[['title']]"
   ]
  },
  {
   "cell_type": "code",
   "execution_count": 4,
   "id": "c18b8c91",
   "metadata": {},
   "outputs": [
    {
     "data": {
      "text/html": [
       "<div>\n",
       "<style scoped>\n",
       "    .dataframe tbody tr th:only-of-type {\n",
       "        vertical-align: middle;\n",
       "    }\n",
       "\n",
       "    .dataframe tbody tr th {\n",
       "        vertical-align: top;\n",
       "    }\n",
       "\n",
       "    .dataframe thead th {\n",
       "        text-align: right;\n",
       "    }\n",
       "</style>\n",
       "<table border=\"1\" class=\"dataframe\">\n",
       "  <thead>\n",
       "    <tr style=\"text-align: right;\">\n",
       "      <th></th>\n",
       "      <th>title</th>\n",
       "      <th>topic_idx</th>\n",
       "    </tr>\n",
       "  </thead>\n",
       "  <tbody>\n",
       "    <tr>\n",
       "      <th>0</th>\n",
       "      <td>인천→핀란드 항공기 결항…휴가철 여행객 분통</td>\n",
       "      <td>4</td>\n",
       "    </tr>\n",
       "    <tr>\n",
       "      <th>1</th>\n",
       "      <td>실리콘밸리 넘어서겠다…구글 15조원 들여 美전역 거점화</td>\n",
       "      <td>4</td>\n",
       "    </tr>\n",
       "    <tr>\n",
       "      <th>2</th>\n",
       "      <td>이란 외무 긴장완화 해결책은 미국이 경제전쟁 멈추는 것</td>\n",
       "      <td>4</td>\n",
       "    </tr>\n",
       "    <tr>\n",
       "      <th>3</th>\n",
       "      <td>NYT 클린턴 측근韓기업 특수관계 조명…공과 사 맞물려종합</td>\n",
       "      <td>4</td>\n",
       "    </tr>\n",
       "    <tr>\n",
       "      <th>4</th>\n",
       "      <td>시진핑 트럼프에 중미 무역협상 조속 타결 희망</td>\n",
       "      <td>4</td>\n",
       "    </tr>\n",
       "    <tr>\n",
       "      <th>...</th>\n",
       "      <td>...</td>\n",
       "      <td>...</td>\n",
       "    </tr>\n",
       "    <tr>\n",
       "      <th>45649</th>\n",
       "      <td>KB금융 미국 IB 스티펠과 제휴…선진국 시장 공략</td>\n",
       "      <td>1</td>\n",
       "    </tr>\n",
       "    <tr>\n",
       "      <th>45650</th>\n",
       "      <td>1보 서울시교육청 신종코로나 확산에 개학 연기·휴업 검토</td>\n",
       "      <td>2</td>\n",
       "    </tr>\n",
       "    <tr>\n",
       "      <th>45651</th>\n",
       "      <td>게시판 키움증권 2020 키움 영웅전 실전투자대회</td>\n",
       "      <td>1</td>\n",
       "    </tr>\n",
       "    <tr>\n",
       "      <th>45652</th>\n",
       "      <td>답변하는 배기동 국립중앙박물관장</td>\n",
       "      <td>2</td>\n",
       "    </tr>\n",
       "    <tr>\n",
       "      <th>45653</th>\n",
       "      <td>2020 한국인터넷기자상 시상식 내달 1일 개최…특별상 김성후</td>\n",
       "      <td>2</td>\n",
       "    </tr>\n",
       "  </tbody>\n",
       "</table>\n",
       "<p>45654 rows × 2 columns</p>\n",
       "</div>"
      ],
      "text/plain": [
       "                                    title  topic_idx\n",
       "0                인천→핀란드 항공기 결항…휴가철 여행객 분통          4\n",
       "1          실리콘밸리 넘어서겠다…구글 15조원 들여 美전역 거점화          4\n",
       "2          이란 외무 긴장완화 해결책은 미국이 경제전쟁 멈추는 것          4\n",
       "3        NYT 클린턴 측근韓기업 특수관계 조명…공과 사 맞물려종합          4\n",
       "4               시진핑 트럼프에 중미 무역협상 조속 타결 희망          4\n",
       "...                                   ...        ...\n",
       "45649        KB금융 미국 IB 스티펠과 제휴…선진국 시장 공략          1\n",
       "45650     1보 서울시교육청 신종코로나 확산에 개학 연기·휴업 검토          2\n",
       "45651         게시판 키움증권 2020 키움 영웅전 실전투자대회          1\n",
       "45652                   답변하는 배기동 국립중앙박물관장          2\n",
       "45653  2020 한국인터넷기자상 시상식 내달 1일 개최…특별상 김성후          2\n",
       "\n",
       "[45654 rows x 2 columns]"
      ]
     },
     "execution_count": 4,
     "metadata": {},
     "output_type": "execute_result"
    }
   ],
   "source": [
    "train"
   ]
  },
  {
   "cell_type": "code",
   "execution_count": 5,
   "id": "89fcd5e1",
   "metadata": {},
   "outputs": [
    {
     "data": {
      "text/html": [
       "<div>\n",
       "<style scoped>\n",
       "    .dataframe tbody tr th:only-of-type {\n",
       "        vertical-align: middle;\n",
       "    }\n",
       "\n",
       "    .dataframe tbody tr th {\n",
       "        vertical-align: top;\n",
       "    }\n",
       "\n",
       "    .dataframe thead th {\n",
       "        text-align: right;\n",
       "    }\n",
       "</style>\n",
       "<table border=\"1\" class=\"dataframe\">\n",
       "  <thead>\n",
       "    <tr style=\"text-align: right;\">\n",
       "      <th></th>\n",
       "      <th>title</th>\n",
       "    </tr>\n",
       "  </thead>\n",
       "  <tbody>\n",
       "    <tr>\n",
       "      <th>0</th>\n",
       "      <td>유튜브 내달 2일까지 크리에이터 지원 공간 운영</td>\n",
       "    </tr>\n",
       "    <tr>\n",
       "      <th>1</th>\n",
       "      <td>어버이날 맑다가 흐려져…남부지방 옅은 황사</td>\n",
       "    </tr>\n",
       "    <tr>\n",
       "      <th>2</th>\n",
       "      <td>내년부터 국가RD 평가 때 논문건수는 반영 않는다</td>\n",
       "    </tr>\n",
       "    <tr>\n",
       "      <th>3</th>\n",
       "      <td>김명자 신임 과총 회장 원로와 젊은 과학자 지혜 모을 것</td>\n",
       "    </tr>\n",
       "    <tr>\n",
       "      <th>4</th>\n",
       "      <td>회색인간 작가 김동식 양심고백 등 새 소설집 2권 출간</td>\n",
       "    </tr>\n",
       "    <tr>\n",
       "      <th>...</th>\n",
       "      <td>...</td>\n",
       "    </tr>\n",
       "    <tr>\n",
       "      <th>9126</th>\n",
       "      <td>인천 오후 3시35분 대설주의보…눈 3.1cm 쌓여</td>\n",
       "    </tr>\n",
       "    <tr>\n",
       "      <th>9127</th>\n",
       "      <td>노래방에서 지인 성추행 외교부 사무관 불구속 입건종합</td>\n",
       "    </tr>\n",
       "    <tr>\n",
       "      <th>9128</th>\n",
       "      <td>40년 전 부마항쟁 부산 시위 사진 2점 최초 공개</td>\n",
       "    </tr>\n",
       "    <tr>\n",
       "      <th>9129</th>\n",
       "      <td>게시판 아리랑TV 아프리카개발은행 총회 개회식 생중계</td>\n",
       "    </tr>\n",
       "    <tr>\n",
       "      <th>9130</th>\n",
       "      <td>유영민 과기장관 강소특구는 지역 혁신의 중심…지원책 강구</td>\n",
       "    </tr>\n",
       "  </tbody>\n",
       "</table>\n",
       "<p>9131 rows × 1 columns</p>\n",
       "</div>"
      ],
      "text/plain": [
       "                                title\n",
       "0          유튜브 내달 2일까지 크리에이터 지원 공간 운영\n",
       "1             어버이날 맑다가 흐려져…남부지방 옅은 황사\n",
       "2         내년부터 국가RD 평가 때 논문건수는 반영 않는다\n",
       "3     김명자 신임 과총 회장 원로와 젊은 과학자 지혜 모을 것\n",
       "4      회색인간 작가 김동식 양심고백 등 새 소설집 2권 출간\n",
       "...                               ...\n",
       "9126     인천 오후 3시35분 대설주의보…눈 3.1cm 쌓여\n",
       "9127    노래방에서 지인 성추행 외교부 사무관 불구속 입건종합\n",
       "9128     40년 전 부마항쟁 부산 시위 사진 2점 최초 공개\n",
       "9129    게시판 아리랑TV 아프리카개발은행 총회 개회식 생중계\n",
       "9130  유영민 과기장관 강소특구는 지역 혁신의 중심…지원책 강구\n",
       "\n",
       "[9131 rows x 1 columns]"
      ]
     },
     "execution_count": 5,
     "metadata": {},
     "output_type": "execute_result"
    }
   ],
   "source": [
    "test"
   ]
  },
  {
   "cell_type": "code",
   "execution_count": 6,
   "id": "026a90c9",
   "metadata": {},
   "outputs": [
    {
     "name": "stdout",
     "output_type": "stream",
     "text": [
      "결측값 여부 : False\n"
     ]
    }
   ],
   "source": [
    "print('결측값 여부 :',train.isnull().values.any())"
   ]
  },
  {
   "cell_type": "code",
   "execution_count": 7,
   "id": "5362113a",
   "metadata": {},
   "outputs": [
    {
     "data": {
      "text/plain": [
       "<Axes: title={'center': 'Samples per each class (Training set)'}, xlabel='topic_idx'>"
      ]
     },
     "execution_count": 7,
     "metadata": {},
     "output_type": "execute_result"
    },
    {
     "data": {
      "image/png": "[encoded data removed]",
      "text/plain": [
       "<Figure size 640x480 with 1 Axes>"
      ]
     },
     "metadata": {},
     "output_type": "display_data"
    }
   ],
   "source": [
    "# 분포도 확인 \n",
    "train.groupby(train.topic_idx).size().reset_index(name=\"counts\").plot.bar(x='topic_idx',title=\"Samples per each class (Training set)\")"
   ]
  },
  {
   "cell_type": "code",
   "execution_count": 8,
   "id": "23abdd40",
   "metadata": {},
   "outputs": [
    {
     "data": {
      "image/png": "[encoded data removed]",
      "text/plain": [
       "<Figure size 640x480 with 1 Axes>"
      ]
     },
     "metadata": {},
     "output_type": "display_data"
    },
    {
     "name": "stdout",
     "output_type": "stream",
     "text": [
      "가장 긴 문장은 13개의 단어를, 가장 짧은 문장은 1개의 단어를 가지고 있습니다.\n"
     ]
    }
   ],
   "source": [
    "# 문장 길이 계산 (단어 수)\n",
    "train['doc_len'] = train.title.apply(lambda words: len(words.split()))\n",
    "\n",
    "def plot_doc_lengths(dataframe):\n",
    "    mean_seq_len = np.round(dataframe['doc_len'].mean()).astype(int)\n",
    "    \n",
    "    # distplot -> displot 또는 histplot으로 변경\n",
    "    sns.histplot(dataframe['doc_len'], kde=True, label='Document lengths')\n",
    "    \n",
    "    # 평균 길이 선 추가\n",
    "    plt.axvline(x=mean_seq_len, color='k', linestyle='--', label=f'Sequence length mean: {mean_seq_len}')\n",
    "    \n",
    "    plt.title('Document lengths')\n",
    "    plt.legend()\n",
    "    plt.show()\n",
    "    \n",
    "    # 가장 긴 문장과 가장 짧은 문장의 단어 수 출력\n",
    "    print(f\"가장 긴 문장은 {train['doc_len'].max()}개의 단어를, 가장 짧은 문장은 {train['doc_len'].min()}개의 단어를 가지고 있습니다.\")\n",
    "\n",
    "# 함수 실행\n",
    "plot_doc_lengths(train)\n"
   ]
  },
  {
   "cell_type": "markdown",
   "id": "8e8a08f0",
   "metadata": {},
   "source": [
    "#### [ 데이터셋 분리 ]<hr>"
   ]
  },
  {
   "cell_type": "code",
   "execution_count": 9,
   "id": "8cfcb4be",
   "metadata": {},
   "outputs": [],
   "source": [
    "## 데이터셋 : 학습용/검증용/테스트용 분리\n",
    "from sklearn.model_selection import train_test_split\n",
    "\n",
    "X_train, X_valid, y_train, y_valid = train_test_split(train['title'], train['topic_idx'], \n",
    "                                                    test_size=0.2, \n",
    "                                                    random_state=0, \n",
    "                                                    stratify=train['topic_idx'])"
   ]
  },
  {
   "cell_type": "code",
   "execution_count": 10,
   "id": "970bac9f",
   "metadata": {},
   "outputs": [
    {
     "name": "stdout",
     "output_type": "stream",
     "text": [
      "--------훈련 데이터의 비율-----------\n",
      "IT과학 = 10.566%\n",
      "경제 = 13.63%\n",
      "사회 = 16.127%\n",
      "생활문화 = 12.995%\n",
      "세계 = 16.71%\n",
      "스포츠 = 15.185%\n",
      "정치 = 14.788%\n",
      "--------검증 데이터의 비율-----------\n",
      "IT과학 = 10.568%\n",
      "경제 = 13.624%\n",
      "사회 = 16.121%\n",
      "생활문화 = 13.0%\n",
      "세계 = 16.712%\n",
      "스포츠 = 15.19%\n",
      "정치 = 14.785%\n"
     ]
    }
   ],
   "source": [
    "print('--------훈련 데이터의 비율-----------')\n",
    "print(f'IT과학 = {round(y_train.value_counts()[0]/len(y_train) * 100,3)}%')\n",
    "print(f'경제 = {round(y_train.value_counts()[1]/len(y_train) * 100,3)}%')\n",
    "print(f'사회 = {round(y_train.value_counts()[2]/len(y_train) * 100,3)}%')\n",
    "print(f'생활문화 = {round(y_train.value_counts()[3]/len(y_train) * 100,3)}%')\n",
    "print(f'세계 = {round(y_train.value_counts()[4]/len(y_train) * 100,3)}%')\n",
    "print(f'스포츠 = {round(y_train.value_counts()[5]/len(y_train) * 100,3)}%')\n",
    "print(f'정치 = {round(y_train.value_counts()[6]/len(y_train) * 100,3)}%')\n",
    "print('--------검증 데이터의 비율-----------')\n",
    "print(f'IT과학 = {round(y_valid.value_counts()[0]/len(y_valid) * 100,3)}%')\n",
    "print(f'경제 = {round(y_valid.value_counts()[1]/len(y_valid) * 100,3)}%')\n",
    "print(f'사회 = {round(y_valid.value_counts()[2]/len(y_valid) * 100,3)}%')\n",
    "print(f'생활문화 = {round(y_valid.value_counts()[3]/len(y_valid) * 100,3)}%')\n",
    "print(f'세계 = {round(y_valid.value_counts()[4]/len(y_valid) * 100,3)}%')\n",
    "print(f'스포츠 = {round(y_valid.value_counts()[5]/len(y_valid) * 100,3)}%')\n",
    "print(f'정치 = {round(y_valid.value_counts()[6]/len(y_valid) * 100,3)}%')"
   ]
  },
  {
   "cell_type": "markdown",
   "id": "76d79608",
   "metadata": {},
   "source": [
    "[ 단어사전 생성 ]<hr>"
   ]
  },
  {
   "cell_type": "code",
   "execution_count": 11,
   "id": "887772a8",
   "metadata": {},
   "outputs": [],
   "source": [
    "# from konlpy.tag import Komoran\n",
    "\n",
    "# # Komoran 객체 생성\n",
    "# komoran = Komoran()\n",
    "\n",
    "# # train 데이터프레임에서 35만 개만 선택\n",
    "# train_sample = train.head(400000)\n",
    "\n",
    "# # 형태소 분석 및 명사 추출\n",
    "# # 여러 문장에 대해 분석을 수행할 때는 apply를 사용하여 각 문장을 처리\n",
    "# morphs = train_sample['title'].apply(komoran.morphs)\n",
    "# nouns = train_sample['title'].apply(komoran.nouns)\n",
    "\n",
    "# # 첫 10개의 결과만 출력\n",
    "# print(\"형태소 분석 (첫 10개 문장):\", morphs.head(10))\n",
    "# print(\"명사 추출 (첫 10개 문장):\", nouns.head(10))"
   ]
  },
  {
   "cell_type": "code",
   "execution_count": 12,
   "id": "ae1a4ee6",
   "metadata": {},
   "outputs": [],
   "source": [
    "# train 데이터프레임에서 40만 개만 선택\n",
    "X_train_sample = X_train.head(400000)"
   ]
  },
  {
   "cell_type": "code",
   "execution_count": 13,
   "id": "752c1af5",
   "metadata": {},
   "outputs": [],
   "source": [
    "# 불용어 파일 로드\n",
    "STOPWORD_FILE = r'C:\\Users\\KDT-37\\Desktop\\KDT_7\\11_NLP\\D250409\\koreanStopwords_unique.txt'\n",
    "\n",
    "with open(STOPWORD_FILE, mode='r', encoding='utf-8') as f:\n",
    "    stop_words = f.readlines()\n",
    "\n",
    "stop_words = [word.replace('\\n', '') for word in stop_words]"
   ]
  },
  {
   "cell_type": "code",
   "execution_count": 14,
   "id": "40c9766c",
   "metadata": {},
   "outputs": [],
   "source": [
    "# 한국어 구두점 리스트\n",
    "korean_punctuation = ['.', ',', '!', '?', '(', ')', '[', ']', '{', '}', '-', '...', '\"',':', ';', '•']"
   ]
  },
  {
   "cell_type": "code",
   "execution_count": 15,
   "id": "f9a18b50",
   "metadata": {},
   "outputs": [],
   "source": [
    "from konlpy.tag import Komoran\n",
    "import string\n",
    "\n",
    "komoran = Komoran() \n",
    "# 토큰화 진행 기능 함수\n",
    "def tokenize(sentences):\n",
    "    tokenized_sentences = []\n",
    "\n",
    "    # tqdm을 사용하여 진행 상태를 출력\n",
    "    for sent in tqdm(sentences, total=len(sentences)):\n",
    "        sent = str(sent)\n",
    "        print(\"원본 문장:\", sent)\n",
    "        \n",
    "        # 형태소 분석 (morphs는 형태소 단위로 나누는 메서드)\n",
    "        morphs = komoran.morphs(sent)\n",
    "        print(\"형태소 분석:\", morphs)\n",
    "\n",
    "        # 구두점 제거, 불용어 제거\n",
    "        cleaned_tokens = []\n",
    "        for token in morphs:\n",
    "            # 영어 구두점과 한국어 구두점 및 불용어를 제거\n",
    "            if token not in string.punctuation and token not in korean_punctuation and token not in stop_words:\n",
    "                cleaned_tokens.append(token)\n",
    "\n",
    "        tokenized_sentences.append(cleaned_tokens)\n",
    "\n",
    "    return tokenized_sentences"
   ]
  },
  {
   "cell_type": "code",
   "execution_count": 16,
   "id": "02f394f2",
   "metadata": {},
   "outputs": [
    {
     "data": {
      "text/plain": [
       "39180             방글라데시 전 독재자 에르샤드 노환으로 별세\n",
       "2132              알파고 충격 ③ 한국판 알파고 언제쯤 나올까\n",
       "13135    스포츠10대뉴스 ⑦아시안게임 야구 금메달에도 병역 논란...\n",
       "16386             성신양회 신설 사모투자회사에 200억원 출자\n",
       "23487           프로야구 전망대 5말 6초는 중위권 혈투와 함께\n",
       "Name: title, dtype: object"
      ]
     },
     "execution_count": 16,
     "metadata": {},
     "output_type": "execute_result"
    }
   ],
   "source": [
    "X_train_sample.head(5)\n"
   ]
  },
  {
   "cell_type": "code",
   "execution_count": null,
   "id": "bb379156",
   "metadata": {},
   "outputs": [],
   "source": [
    "from konlpy.tag import Komoran\n",
    "import string\n",
    "from tqdm import tqdm\n",
    "\n",
    "# Komoran 객체 생성 (형태소 분석기)\n",
    "komoran = Komoran()\n",
    "\n",
    "# 불용어 리스트 로드\n",
    "STOPWORD_FILE = r'C:\\Users\\KDT-37\\Desktop\\KDT_7\\11_NLP\\D250409\\koreanStopwords_unique.txt'\n",
    "\n",
    "with open(STOPWORD_FILE, mode='r', encoding='utf-8') as f:\n",
    "    stop_words = f.readlines()\n",
    "\n",
    "# 불용어 리스트에서 줄바꿈 제거\n",
    "stop_words = [word.replace('\\n', '') for word in stop_words]\n",
    "\n",
    "# 한국어 구두점 리스트\n",
    "korean_punctuation = ['∼','%', '.', ',', '!', \n",
    "                      '?', '(', ')', '[', ']', \n",
    "                      '{', '}', '-', '...', '\"', \n",
    "                      ':', ';', '·', '…']\n",
    "\n",
    "\n",
    "# 한국어 자음 리스트\n",
    "korean_consonants = ['ㄱ', 'ㄲ', 'ㄴ', 'ㄷ', 'ㄸ', 'ㄹ', \n",
    "                     'ㅁ', 'ㅂ', 'ㅃ', 'ㅅ', 'ㅆ', 'ㅇ', \n",
    "                     'ㅈ', 'ㅉ', 'ㅊ', 'ㅋ', 'ㅌ', 'ㅍ', 'ㅎ']\n",
    "\n",
    "\n",
    "# 토큰화 진행 기능 함수\n",
    "def tokenize(sentences):\n",
    "    tokenized_sentences = []\n",
    "\n",
    "    # tqdm을 사용하여 진행 상태를 출력\n",
    "    for sent in tqdm(sentences, total=len(sentences)):\n",
    "        sent = str(sent)\n",
    "\n",
    "        # 형태소 분석 (morphs는 형태소 단위로 나누는 메서드)\n",
    "        morphs = komoran.morphs(sent)\n",
    "\n",
    "        # 구두점, 불용어, 숫자, 조사 제거\n",
    "        cleaned_tokens = []\n",
    "        for token in morphs:\n",
    "            # 한국어 구두점, 불용어, 숫자, 조사 제거\n",
    "            if token not in korean_punctuation and token not in stop_words and not token.isdigit() and token not in korean_consonants:\n",
    "                cleaned_tokens.append(token)\n",
    "\n",
    "        tokenized_sentences.append(cleaned_tokens)\n",
    "\n",
    "    return tokenized_sentences\n",
    "\n"
   ]
  },
  {
   "cell_type": "code",
   "execution_count": 18,
   "id": "5e5e61a6",
   "metadata": {},
   "outputs": [
    {
     "name": "stderr",
     "output_type": "stream",
     "text": [
      "100%|██████████| 36523/36523 [00:15<00:00, 2335.20it/s]\n",
      "100%|██████████| 9131/9131 [00:03<00:00, 2912.72it/s]\n",
      "100%|██████████| 9131/9131 [00:03<00:00, 2928.53it/s]"
     ]
    },
    {
     "name": "stdout",
     "output_type": "stream",
     "text": [
      "토큰화된 결과: [['방글라데시', '전', '독재자', '에르샤드', '노환', '별세'], ['알파고', '충격', '한국판', '알파고', '쯤'], ['스포츠', '10대', '뉴스', '아시안게임', '야구', '금메달', '병역', '논란'], ['성신양회', '신설', '사모', '투자', '회사', '억', '출자'], ['프로', '야구', '전망대', '초', '중위', '권', '혈투'], ['유가', '발목', '잡히', '인도네시아', '예산', '삭감', '난관', '돌파'], ['러시아', '불임', '부부', '韓', '원정', '임신', '인기', '연해주', '만도', '月', '쌍'], ['한반도', '新', '냉전', '朴', '대통령', '北', '묻', '핵', '냐', '생존', '냐'], ['게시판', '교보문고', '드라마', '수', '로맨스', '웹', '소설', '공모'], ['과기', '정통부', 'SKB', '티브로드', '인수', '합병', '조건부', '인가']]\n",
      "토큰화된 결과: [['붕괴', '伊', '모란', '디', '다리', '25년', '간', '제대로', '유지', '보수', '종합'], ['이틀', '노트', '넘', 'S8', '예약', '판매', '유통', '북새통', '종합'], ['올림픽', '개막식', '참석', '김여정'], ['추신수', '안타', '없이', '사사구', '텍사스', '짜릿', '역전승'], ['美', '규제', '철강', '株', '엇갈리', '반응', '영향', '제한', '분석'], ['전국', '곳곳', '가을', '비', '흠뻑', '밤', '남해안', '제주', '호우'], ['출연', '연', '중소기업', '교류', '장', '기술', '지원', '협의회', '출범'], ['한국당', '중국', '러시아', '군용기', '침범', '관련', '기자회견'], ['친박', '계', '김무성', '권력자', '발언', '발끈', '확전', '자제'], ['野', '우병우', '아라', '합창', '동행', '명령', '발동', '온도', '차']]\n",
      "토큰화된 결과: [['유튜브', '내달', '크리에이터', '지원', '공간', '운영'], ['어버이날', '맑', '다가', '흐리', '남부', '지방', '옅', '황사'], ['내년', '국가', 'RD', '평가', '논문', '건수', '반영', '는다'], ['김명자', '신임', '총', '회장', '원로', '젊', '과학자', '지혜', '모으'], ['회색', '인간', '작가', '김', '동', '식', '양심', '고백', '새', '소설집', '권', '출간'], ['야외', '생방송', '시', '액션', '캐', '전용', '요금', '잇따르'], ['월드컵', '태극전사', '강', '전초', '기지', '레오', '강', '입성', '종합'], ['미세먼지', '출근길'], ['왓츠앱稅', '성나', '레바논', '민심', '총리', '사퇴', '이어지', '종합'], ['베트남', '경제', '고성', '장', '지속', '분기', 'GDP', '성장']]\n"
     ]
    },
    {
     "name": "stderr",
     "output_type": "stream",
     "text": [
      "\n"
     ]
    }
   ],
   "source": [
    "# X_train에서 'title' 컬럼만 리스트로 변환하여 토큰화 함수에 적용\n",
    "tokenized_X_train = tokenize(X_train)\n",
    "tokenized_X_valid = tokenize(X_valid)\n",
    "tokenized_X_test = tokenize(test['title'])\n",
    "\n",
    "\n",
    "# 결과 출력\n",
    "print(\"토큰화된 결과:\", tokenized_X_train[:10])  # 앞 10개만 출력하여 확인\n",
    "print(\"토큰화된 결과:\", tokenized_X_valid[:10])\n",
    "print(\"토큰화된 결과:\", tokenized_X_test[:10])\n"
   ]
  },
  {
   "cell_type": "code",
   "execution_count": 19,
   "id": "3da5a56d",
   "metadata": {},
   "outputs": [
    {
     "name": "stdout",
     "output_type": "stream",
     "text": [
      "tokenized_X_valid : 36523개\n",
      "tokenized_X_valid : 9131개\n",
      "tokenized_X_test : 9131개\n"
     ]
    }
   ],
   "source": [
    "print(f'tokenized_X_valid : {len(tokenized_X_train)}개')\n",
    "print(f'tokenized_X_valid : {len(tokenized_X_valid)}개')\n",
    "print(f'tokenized_X_test : {len(tokenized_X_test)}개')"
   ]
  },
  {
   "cell_type": "code",
   "execution_count": 20,
   "id": "e29c5017",
   "metadata": {},
   "outputs": [
    {
     "name": "stdout",
     "output_type": "stream",
     "text": [
      "['방글라데시', '전', '독재자', '에르샤드', '노환', '별세']\n",
      "['알파고', '충격', '한국판', '알파고', '쯤']\n"
     ]
    }
   ],
   "source": [
    "# 상위 샘플 2개 출력\n",
    "for sent in tokenized_X_train[:2]:\n",
    "  print(sent)"
   ]
  },
  {
   "cell_type": "code",
   "execution_count": 21,
   "id": "05cf6834",
   "metadata": {},
   "outputs": [
    {
     "name": "stdout",
     "output_type": "stream",
     "text": [
      "['붕괴', '伊', '모란', '디', '다리', '25년', '간', '제대로', '유지', '보수', '종합']\n",
      "['이틀', '노트', '넘', 'S8', '예약', '판매', '유통', '북새통', '종합']\n"
     ]
    }
   ],
   "source": [
    "# 상위 샘플 2개 출력\n",
    "for sent in tokenized_X_valid[:2]:\n",
    "  print(sent)"
   ]
  },
  {
   "cell_type": "markdown",
   "id": "d18c3270",
   "metadata": {},
   "source": [
    "#### [ Vocab 생성 ]<hr>"
   ]
  },
  {
   "cell_type": "code",
   "execution_count": 22,
   "id": "cb6b028e",
   "metadata": {},
   "outputs": [
    {
     "name": "stdout",
     "output_type": "stream",
     "text": [
      "총 단어수 : 25824\n"
     ]
    }
   ],
   "source": [
    "## Vocab 생성 시 단어 빈도 처리 위한 python기본 모듈\n",
    "from collections import Counter\n",
    "\n",
    "word_list = []\n",
    "for sent in tokenized_X_train:\n",
    "    for word in sent:\n",
    "      word_list.append(word)\n",
    "\n",
    "word_counts = Counter(word_list)\n",
    "print('총 단어수 :', len(word_counts))"
   ]
  },
  {
   "cell_type": "code",
   "execution_count": 23,
   "id": "6f66358f",
   "metadata": {},
   "outputs": [
    {
     "name": "stdout",
     "output_type": "stream",
     "text": [
      "등장 빈도수 상위 100개 단어\n",
      "['종합', '대통령', '美', '北', '억', '전', '대', '위', '한국', '시', '천', '이란', '감독', '출시', '中', '경기', '게시판', '화', '트럼프', '대표', '신간', '朴', '프로', '성', '농구', '정부', '차', '게', '팀', '문', '서울', 'KT', '비', '개발', '조', '분기', '지원', '투자', 'G', '새', '권', '시장', '금융', '가능', '수', '배구', '면', '중국', '올해', '개최', '공개', '미', '최고', '영업', '세계', '日', '라', '미국', '작년', '당', '후', '총리', '기술', '피', '축구', '기업', '코로나', '삼성', '미래', '김정은', '간', '민주', '사망', '호', '월드컵', '전국', '장', '그래픽', '시즌', '서비스', '국내', '최대', '靑', '북', 'AI', '재', '추진', '터키', '대회', '류현진', '북한', '축제', '여행', '내년', '내일', '↑', '형', '방문', '국회', '경제']\n"
     ]
    }
   ],
   "source": [
    "vocab = sorted(word_counts, key=word_counts.get, reverse=True)\n",
    "print('등장 빈도수 상위 100개 단어')\n",
    "print(vocab[:100])"
   ]
  },
  {
   "cell_type": "code",
   "execution_count": 71,
   "id": "491c7d3f",
   "metadata": {},
   "outputs": [
    {
     "name": "stdout",
     "output_type": "stream",
     "text": [
      "전체 vocab 단어와 빈도수가 '전체_vocab.csv' 파일에 저장되었습니다.\n"
     ]
    }
   ],
   "source": [
    "import csv\n",
    "# 전체 vocab을 csv 파일로 저장\n",
    "with open('전체_vocab.csv', 'w', newline='', encoding='utf-8') as csvfile:\n",
    "    writer = csv.writer(csvfile)\n",
    "    writer.writerow(['단어'])  # 헤더 작성\n",
    "    \n",
    "    # 전체 vocab을 파일에 기록\n",
    "    for word in vocab:\n",
    "        writer.writerow([word, word_counts[word]])\n",
    "\n",
    "print(\"전체 vocab 단어와 빈도수가 '전체_vocab.csv' 파일에 저장되었습니다.\")"
   ]
  },
  {
   "cell_type": "code",
   "execution_count": 24,
   "id": "f2bafdd4",
   "metadata": {},
   "outputs": [
    {
     "name": "stdout",
     "output_type": "stream",
     "text": [
      "단어 집합(vocabulary)의 크기 : 25824\n",
      "등장 빈도가 2번 이하인 희귀 단어의 수: 13775\n",
      "단어 집합에서 희귀 단어의 비율: 53.34185254027262\n",
      "전체 등장 빈도에서 희귀 단어 등장 빈도 비율: 5.851951923045007\n"
     ]
    }
   ],
   "source": [
    "threshold  = 3\n",
    "total_cnt  = len(word_counts) # 단어의 수\n",
    "rare_cnt   = 0 # 등장 빈도수가 threshold보다 작은 단어의 개수를 카운트\n",
    "total_freq = 0 # 훈련 데이터의 전체 단어 빈도수 총 합\n",
    "rare_freq  = 0 # 등장 빈도수가 threshold보다 작은 단어의 등장 빈도수의 총 합\n",
    "\n",
    "# 단어와 빈도수의 쌍(pair)을 key와 value로 받는다.\n",
    "for key, value in word_counts.items():\n",
    "    total_freq = total_freq + value\n",
    "\n",
    "    # 단어의 등장 빈도수가 threshold보다 작으면\n",
    "    if(value < threshold):\n",
    "        rare_cnt = rare_cnt + 1\n",
    "        rare_freq = rare_freq + value\n",
    "\n",
    "print('단어 집합(vocabulary)의 크기 :',total_cnt)\n",
    "print('등장 빈도가 %s번 이하인 희귀 단어의 수: %s'%(threshold - 1, rare_cnt))\n",
    "print(\"단어 집합에서 희귀 단어의 비율:\", (rare_cnt / total_cnt)*100)\n",
    "print(\"전체 등장 빈도에서 희귀 단어 등장 빈도 비율:\", (rare_freq / total_freq)*100)"
   ]
  },
  {
   "cell_type": "code",
   "execution_count": 25,
   "id": "808d1cce",
   "metadata": {},
   "outputs": [],
   "source": [
    "## 단어사전 -> 단어:정수값\n",
    "word_to_index = {}\n",
    "word_to_index['<PAD>'] = 0\n",
    "word_to_index['<UNK>'] = 1"
   ]
  },
  {
   "cell_type": "code",
   "execution_count": 26,
   "id": "167369fe",
   "metadata": {},
   "outputs": [],
   "source": [
    "for index, word in enumerate(vocab) :\n",
    "  word_to_index[word] = index + 2"
   ]
  },
  {
   "cell_type": "code",
   "execution_count": 27,
   "id": "4072b245",
   "metadata": {},
   "outputs": [
    {
     "name": "stdout",
     "output_type": "stream",
     "text": [
      "패딩 토큰과 UNK 토큰을 고려한 단어 집합의 크기 : 25826\n"
     ]
    }
   ],
   "source": [
    "vocab_size = len(word_to_index)\n",
    "print('패딩 토큰과 UNK 토큰을 고려한 단어 집합의 크기 :', vocab_size)"
   ]
  },
  {
   "cell_type": "code",
   "execution_count": 28,
   "id": "16abda50",
   "metadata": {},
   "outputs": [
    {
     "name": "stdout",
     "output_type": "stream",
     "text": [
      "단어 <PAD>와 맵핑되는 정수 : 0\n",
      "단어 <UNK>와 맵핑되는 정수 : 1\n"
     ]
    }
   ],
   "source": [
    "print('단어 <PAD>와 맵핑되는 정수 :', word_to_index['<PAD>'])\n",
    "print('단어 <UNK>와 맵핑되는 정수 :', word_to_index['<UNK>'])"
   ]
  },
  {
   "cell_type": "markdown",
   "id": "e68dba2b",
   "metadata": {},
   "source": [
    "#### [ 정수 인코딩 ]<hr>"
   ]
  },
  {
   "cell_type": "code",
   "execution_count": 29,
   "id": "d9a6170b",
   "metadata": {},
   "outputs": [],
   "source": [
    "## 문장단위 추출 후 단어들을 정수로 인코딩 진행 함수\n",
    "def texts_to_sequences(tokenized_X_data, word_to_index):\n",
    "  encoded_X_data = []\n",
    "  for sent in tokenized_X_data:\n",
    "    index_sequences = []\n",
    "    for word in sent:\n",
    "      try:\n",
    "          index_sequences.append(word_to_index[word])\n",
    "      except KeyError:\n",
    "          index_sequences.append(word_to_index['<UNK>'])\n",
    "    encoded_X_data.append(index_sequences)\n",
    "  return encoded_X_data"
   ]
  },
  {
   "cell_type": "code",
   "execution_count": 30,
   "id": "cad7b47a",
   "metadata": {},
   "outputs": [],
   "source": [
    "encoded_X_train = texts_to_sequences(tokenized_X_train, word_to_index)\n",
    "encoded_X_valid = texts_to_sequences(tokenized_X_valid, word_to_index)"
   ]
  },
  {
   "cell_type": "code",
   "execution_count": 31,
   "id": "01919421",
   "metadata": {},
   "outputs": [
    {
     "name": "stdout",
     "output_type": "stream",
     "text": [
      "[6728, 7, 3944, 15906, 15907, 1169]\n",
      "[1232, 1170, 6729, 1232, 5134]\n"
     ]
    }
   ],
   "source": [
    "# 상위 샘플 2개 출력\n",
    "for sent in encoded_X_train[:2]:\n",
    "  print(sent)"
   ]
  },
  {
   "cell_type": "code",
   "execution_count": 32,
   "id": "f7b1252d",
   "metadata": {},
   "outputs": [],
   "source": [
    "# 정수 -> 단어 변환 사전(예 : 영한사전, 기계어자연어사전)\n",
    "index_to_word = {}\n",
    "for key, value in word_to_index.items():\n",
    "    index_to_word[value] = key"
   ]
  },
  {
   "cell_type": "code",
   "execution_count": 33,
   "id": "3157396b",
   "metadata": {},
   "outputs": [
    {
     "name": "stdout",
     "output_type": "stream",
     "text": [
      "기존의 두번째 샘플 : ['알파고', '충격', '한국판', '알파고', '쯤']\n",
      "복원된 두번째 샘플 : ['알파고', '충격', '한국판', '알파고', '쯤']\n"
     ]
    }
   ],
   "source": [
    "decoded_sample = [index_to_word[word] for word in encoded_X_train[1]]\n",
    "print('기존의 두번째 샘플 :', tokenized_X_train[1])\n",
    "print('복원된 두번째 샘플 :', decoded_sample)"
   ]
  },
  {
   "cell_type": "markdown",
   "id": "ec4f18da",
   "metadata": {},
   "source": [
    "#### [ 패딩 ]<hr>"
   ]
  },
  {
   "cell_type": "code",
   "execution_count": 34,
   "id": "af489685",
   "metadata": {},
   "outputs": [
    {
     "name": "stdout",
     "output_type": "stream",
     "text": [
      "뉴스 제목의 최대 길이 : 18\n",
      "뉴스 제목의 평균 길이 : 8.248692604660077\n"
     ]
    },
    {
     "data": {
      "image/png": "[encoded data removed]",
      "text/plain": [
       "<Figure size 640x480 with 1 Axes>"
      ]
     },
     "metadata": {},
     "output_type": "display_data"
    }
   ],
   "source": [
    "print('뉴스 제목의 최대 길이 :',max(len(review) for review in encoded_X_train))\n",
    "print('뉴스 제목의 평균 길이 :',sum(map(len, encoded_X_train))/len(encoded_X_train))\n",
    "plt.hist([len(review) for review in encoded_X_train], bins=50)\n",
    "plt.xlabel('length of samples')\n",
    "plt.ylabel('number of samples')\n",
    "plt.show()"
   ]
  },
  {
   "cell_type": "code",
   "execution_count": 35,
   "id": "9404c2a1",
   "metadata": {},
   "outputs": [],
   "source": [
    "def pad_sequences(sentences, max_len):\n",
    "  features = np.zeros((len(sentences), max_len), dtype=int)\n",
    "  for index, sentence in enumerate(sentences):\n",
    "    if len(sentence) != 0:\n",
    "      features[index, :len(sentence)] = np.array(sentence)[:max_len]\n",
    "  return features"
   ]
  },
  {
   "cell_type": "code",
   "execution_count": 36,
   "id": "df18bd76",
   "metadata": {},
   "outputs": [],
   "source": [
    "padded_X_train = pad_sequences(encoded_X_train, max_len=17)\n",
    "padded_X_valid = pad_sequences(encoded_X_valid, max_len=17)"
   ]
  },
  {
   "cell_type": "code",
   "execution_count": 37,
   "id": "85bcdbe6",
   "metadata": {},
   "outputs": [
    {
     "name": "stdout",
     "output_type": "stream",
     "text": [
      "훈련 데이터의 크기 : (36523, 17)\n",
      "검증 데이터의 크기 : (9131, 17)\n"
     ]
    }
   ],
   "source": [
    "print('훈련 데이터의 크기 :', padded_X_train.shape)\n",
    "print('검증 데이터의 크기 :', padded_X_valid.shape)"
   ]
  },
  {
   "cell_type": "code",
   "execution_count": 38,
   "id": "ddfe4a30",
   "metadata": {},
   "outputs": [
    {
     "name": "stdout",
     "output_type": "stream",
     "text": [
      "(36523, 17)\n"
     ]
    }
   ],
   "source": [
    "print(padded_X_train.shape[:2])"
   ]
  },
  {
   "cell_type": "markdown",
   "id": "6cdeed88",
   "metadata": {},
   "source": [
    "#### [ 모델링 ] <hr>"
   ]
  },
  {
   "cell_type": "code",
   "execution_count": 39,
   "id": "51525146",
   "metadata": {},
   "outputs": [],
   "source": [
    "train_label_tensor = torch.tensor(np.array(y_train))\n",
    "valid_label_tensor = torch.tensor(np.array(y_valid))"
   ]
  },
  {
   "cell_type": "code",
   "execution_count": 40,
   "id": "2b3c3f46",
   "metadata": {},
   "outputs": [
    {
     "data": {
      "text/plain": [
       "tensor([4, 0, 5, 1, 5])"
      ]
     },
     "execution_count": 40,
     "metadata": {},
     "output_type": "execute_result"
    }
   ],
   "source": [
    "train_label_tensor[:5]"
   ]
  },
  {
   "cell_type": "code",
   "execution_count": 41,
   "id": "4479591c",
   "metadata": {},
   "outputs": [
    {
     "name": "stdout",
     "output_type": "stream",
     "text": [
      "cpu와 cuda 중 다음 기기로 학습함: cpu\n"
     ]
    }
   ],
   "source": [
    "USE_CUDA = torch.cuda.is_available()\n",
    "device = torch.device(\"cuda\" if USE_CUDA else \"cpu\")\n",
    "print(\"cpu와 cuda 중 다음 기기로 학습함:\", device)"
   ]
  },
  {
   "cell_type": "code",
   "execution_count": 61,
   "id": "bc861dd8",
   "metadata": {},
   "outputs": [],
   "source": [
    "class LSTMClassifier(nn.Module):\n",
    "    def __init__(self, vocab_size, embed_dim, hidden_dim, output_dim, num_layers=2, dropout=0.3, bidirectional=True):\n",
    "        super(LSTMClassifier, self).__init__()\n",
    "        self.embedding = nn.Embedding(vocab_size, embed_dim, padding_idx=0)\n",
    "        self.lstm = nn.LSTM(embed_dim, hidden_dim, \n",
    "                            num_layers=num_layers, \n",
    "                            batch_first=True, \n",
    "                            bidirectional=bidirectional)\n",
    "        self.dropout = nn.Dropout(dropout)\n",
    "        # 양방향이면 hidden_dim * 2\n",
    "        self.fc = nn.Linear(hidden_dim * 2 if bidirectional else hidden_dim, output_dim)\n",
    "    \n",
    "    def forward(self, x):\n",
    "        embedded = self.embedding(x)\n",
    "        output, (hidden, cell) = self.lstm(embedded)\n",
    "        \n",
    "        if self.lstm.bidirectional:\n",
    "            hidden = torch.cat((hidden[-2], hidden[-1]), dim=1)\n",
    "        else:\n",
    "            hidden = hidden[-1]  # 마지막 레이어의 hidden state\n",
    "        \n",
    "        hidden = self.dropout(hidden)\n",
    "        return self.fc(hidden)"
   ]
  },
  {
   "cell_type": "code",
   "execution_count": 62,
   "id": "2b3ae12e",
   "metadata": {},
   "outputs": [],
   "source": [
    "from tqdm import tqdm  # tqdm 라이브러리 import\n",
    "\n",
    "# 모델 학습 함수 (조기 종료 및 최적 모델 저장 포함)\n",
    "def train_model(model, train_loader, valid_loader, criterion, optimizer, epochs=5, patience=3):\n",
    "    model.train()\n",
    "    best_valid_loss = float('inf')  # 최상의 검증 손실 초기화\n",
    "    epochs_without_improvement = 0  # 개선되지 않은 에폭 수\n",
    "    \n",
    "    scheduler = ReduceLROnPlateau(optimizer, mode='min', factor=0.1, patience=5, verbose=True)\n",
    "    \n",
    "    for epoch in range(epochs):\n",
    "        total_loss = 0\n",
    "        all_preds = []  # 모든 예측값을 저장\n",
    "        all_labels = []  # 모든 실제값을 저장\n",
    "        \n",
    "        model.train()  # 학습 모드로 설정\n",
    "        \n",
    "        # tqdm을 사용하여 학습 데이터에 대한 진행 바 표시\n",
    "        for inputs, labels in tqdm(train_loader, desc=f\"Epoch {epoch + 1}/{epochs}\", leave=False):\n",
    "            optimizer.zero_grad()\n",
    "            \n",
    "            inputs = torch.clamp(inputs, max=vocab_size-1)\n",
    "            \n",
    "            # 모델 출력 얻기\n",
    "            outputs = model(inputs)  \n",
    "            \n",
    "            # 손실 계산\n",
    "            loss = criterion(outputs, labels)\n",
    "            \n",
    "            # 역전파 및 최적화\n",
    "            loss.backward()\n",
    "            optimizer.step()\n",
    "            \n",
    "            total_loss += loss.item()\n",
    "            \n",
    "            # 예측값과 실제값을 리스트에 저장\n",
    "            _, predicted = torch.max(outputs, 1)\n",
    "            all_preds.extend(predicted.cpu().numpy())\n",
    "            all_labels.extend(labels.cpu().numpy())\n",
    "        \n",
    "        # 훈련 정확도와 F1 스코어 계산\n",
    "        train_accuracy = accuracy_score(all_labels, all_preds)\n",
    "        train_f1 = f1_score(all_labels, all_preds, average='weighted')\n",
    "        \n",
    "        # 평균 훈련 손실 출력\n",
    "        print(f\"Epoch {epoch + 1}, Training Loss: {total_loss / len(train_loader):.4f}\")\n",
    "        print(f\"Epoch {epoch + 1}, Training Accuracy: {train_accuracy * 100:.2f}%\")\n",
    "        print(f\"Epoch {epoch + 1}, Training F1 Score: {train_f1:.4f}\")\n",
    "        \n",
    "        # 검증 손실 계산\n",
    "        # 에폭마다 검증 손실을 기준으로 학습률 갱신\n",
    "        valid_loss, accuracy, f1 = evaluate_model(model, valid_loader, criterion)\n",
    "        scheduler.step(valid_loss)  # 검증 손실을 기준으로 학습률 감소\n",
    "        print(f\"Epoch {epoch + 1}, Validation Loss: {valid_loss:.4f}, Accuracy: {accuracy * 100:.2f}%, F1 Score: {f1:.4f}\")\n",
    "        \n",
    "        # 조기 종료 조건 체크 (검증 손실이 개선되지 않으면)\n",
    "        if valid_loss < best_valid_loss:\n",
    "            best_valid_loss = valid_loss\n",
    "            epochs_without_improvement = 0\n",
    "            # 모델 저장 (최적 모델)\n",
    "            torch.save(model.state_dict(), \"0415_LSTM_binary_best_model.pth\")\n",
    "        else:\n",
    "            epochs_without_improvement += 1\n",
    "        \n",
    "        if epochs_without_improvement >= patience:\n",
    "            print(f\"Early stopping triggered after {epoch + 1} epochs.\")\n",
    "            break  # 학습 종료\n"
   ]
  },
  {
   "cell_type": "code",
   "execution_count": 63,
   "id": "68070a53",
   "metadata": {},
   "outputs": [],
   "source": [
    "from tqdm import tqdm  # tqdm 라이브러리 import\n",
    "\n",
    "# 검증 함수 (손실, 정확도, F1-score 계산)\n",
    "def evaluate_model(model, valid_loader, criterion):\n",
    "    model.eval()  # 평가 모드로 설정\n",
    "    total_loss = 0\n",
    "    correct_predictions = 0\n",
    "    total_predictions = 0\n",
    "    all_labels = []\n",
    "    all_preds = []\n",
    "    \n",
    "    with torch.no_grad():  # 평가 시 기울기 계산을 하지 않음\n",
    "        # tqdm을 사용하여 검증 데이터에 대한 진행 바 표시\n",
    "        for batch in tqdm(valid_loader, desc=\"Validating\", leave=False):\n",
    "            # `inputs`와 `labels` 분리\n",
    "            inputs, labels = batch\n",
    "            inputs = torch.clamp(inputs, max=vocab_size-1)\n",
    "            \n",
    "            # 모델 출력 얻기\n",
    "            outputs = model(inputs)\n",
    "\n",
    "            # 손실 계산\n",
    "            loss = criterion(outputs, labels)\n",
    "            \n",
    "            total_loss += loss.item()\n",
    "            \n",
    "            _, predicted = torch.max(outputs, 1)  # 예측값 추출\n",
    "            correct_predictions += (predicted == labels).sum().item()\n",
    "            total_predictions += labels.size(0)\n",
    "            \n",
    "            # 전체 레이블과 예측을 저장하여 F1-score 계산에 사용\n",
    "            all_labels.extend(labels.cpu().numpy())\n",
    "            all_preds.extend(predicted.cpu().numpy())\n",
    "    \n",
    "    avg_loss = total_loss / len(valid_loader)  # 평균 손실 계산\n",
    "    accuracy = correct_predictions / total_predictions  # 정확도 계산\n",
    "    f1 = f1_score(all_labels, all_preds, average='weighted')  # F1-score 계산 (weighted 방식)\n",
    "    \n",
    "    return avg_loss, accuracy, f1\n"
   ]
  },
  {
   "cell_type": "code",
   "execution_count": 64,
   "id": "5f62b1d4",
   "metadata": {},
   "outputs": [],
   "source": [
    "from torch.utils.data import DataLoader, TensorDataset\n",
    "\n",
    "encoded_train = torch.tensor(padded_X_train).to(torch.int64)\n",
    "train_dataset = TensorDataset(encoded_train, train_label_tensor)\n",
    "train_loader = DataLoader(train_dataset, batch_size=64, shuffle=True, drop_last=True)\n",
    "\n",
    "encoded_valid = torch.tensor(padded_X_valid).to(torch.int64)\n",
    "valid_dataset = TensorDataset(encoded_valid, valid_label_tensor)\n",
    "valid_loader = DataLoader(valid_dataset, shuffle=True, batch_size=32, drop_last=True)"
   ]
  },
  {
   "cell_type": "code",
   "execution_count": 65,
   "id": "fb85bde0",
   "metadata": {},
   "outputs": [
    {
     "name": "stdout",
     "output_type": "stream",
     "text": [
      "torch.Size([64, 17])\n"
     ]
    }
   ],
   "source": [
    "for inputs, labels in train_loader:\n",
    "    print(inputs.shape)  # 데이터 크기 확인\n",
    "    break  # 첫 번째 배치만 확인"
   ]
  },
  {
   "cell_type": "code",
   "execution_count": 66,
   "id": "24bed5d4",
   "metadata": {},
   "outputs": [
    {
     "name": "stdout",
     "output_type": "stream",
     "text": [
      "torch.Size([32, 17])\n"
     ]
    }
   ],
   "source": [
    "for inputs, labels in valid_loader:\n",
    "    print(inputs.shape)  # 데이터 크기 확인\n",
    "    break  # 첫 번째 배치만 확인"
   ]
  },
  {
   "cell_type": "code",
   "execution_count": 67,
   "id": "96414ca4",
   "metadata": {},
   "outputs": [],
   "source": [
    "# 모델 인스턴스 생성\n",
    "vocab_size = len(vocab)+1       # 전체 단어 사전 크기\n",
    "embed_dim = 200               # 임베딩 차원\n",
    "hidden_dim = 128              # RNN hidden state 크기\n",
    "output_dim = 7                # 클래스 수\n",
    "lr = 0.0005\n",
    "num_epochs = 20\n",
    "\n",
    "model = LSTMClassifier(vocab_size, embed_dim, hidden_dim, output_dim)\n",
    "criterion = nn.CrossEntropyLoss()\n",
    "optimizer = torch.optim.Adam(model.parameters(), lr= lr )"
   ]
  },
  {
   "cell_type": "code",
   "execution_count": 70,
   "id": "24a5319f",
   "metadata": {},
   "outputs": [
    {
     "name": "stdout",
     "output_type": "stream",
     "text": [
      "25825\n"
     ]
    }
   ],
   "source": [
    "print(vocab_size)"
   ]
  },
  {
   "cell_type": "code",
   "execution_count": 68,
   "id": "2f89132e",
   "metadata": {},
   "outputs": [
    {
     "name": "stdout",
     "output_type": "stream",
     "text": [
      "Max input index: 24900\n",
      "Min input index: 0\n"
     ]
    }
   ],
   "source": [
    "# 데이터 확인 코드\n",
    "for inputs, labels in train_loader:\n",
    "    print(f\"Max input index: {inputs.max()}\")  # 최대 인덱스 확인\n",
    "    print(f\"Min input index: {inputs.min()}\")  # 최소 인덱스 확인\n",
    "    break"
   ]
  },
  {
   "cell_type": "code",
   "execution_count": 69,
   "id": "d7b1b7c5",
   "metadata": {},
   "outputs": [
    {
     "name": "stderr",
     "output_type": "stream",
     "text": [
      "c:\\Users\\KDT-37\\anaconda3\\envs\\NLP\\lib\\site-packages\\torch\\optim\\lr_scheduler.py:28: UserWarning: The verbose parameter is deprecated. Please use get_last_lr() to access the learning rate.\n",
      "  warnings.warn(\"The verbose parameter is deprecated. Please use get_last_lr() \"\n",
      "                                                             \r"
     ]
    },
    {
     "name": "stdout",
     "output_type": "stream",
     "text": [
      "Epoch 1, Training Loss: 1.0009\n",
      "Epoch 1, Training Accuracy: 64.51%\n",
      "Epoch 1, Training F1 Score: 0.6425\n"
     ]
    },
    {
     "name": "stderr",
     "output_type": "stream",
     "text": [
      "                                                              \r"
     ]
    },
    {
     "name": "stdout",
     "output_type": "stream",
     "text": [
      "Epoch 1, Validation Loss: 0.6423, Accuracy: 78.30%, F1 Score: 0.7858\n"
     ]
    },
    {
     "name": "stderr",
     "output_type": "stream",
     "text": [
      "                                                             \r"
     ]
    },
    {
     "name": "stdout",
     "output_type": "stream",
     "text": [
      "Epoch 2, Training Loss: 0.4829\n",
      "Epoch 2, Training Accuracy: 84.08%\n",
      "Epoch 2, Training F1 Score: 0.8410\n"
     ]
    },
    {
     "name": "stderr",
     "output_type": "stream",
     "text": [
      "                                                              \r"
     ]
    },
    {
     "name": "stdout",
     "output_type": "stream",
     "text": [
      "Epoch 2, Validation Loss: 0.5605, Accuracy: 81.17%, F1 Score: 0.8112\n"
     ]
    },
    {
     "name": "stderr",
     "output_type": "stream",
     "text": [
      "                                                             \r"
     ]
    },
    {
     "name": "stdout",
     "output_type": "stream",
     "text": [
      "Epoch 3, Training Loss: 0.3151\n",
      "Epoch 3, Training Accuracy: 89.82%\n",
      "Epoch 3, Training F1 Score: 0.8981\n"
     ]
    },
    {
     "name": "stderr",
     "output_type": "stream",
     "text": [
      "                                                              \r"
     ]
    },
    {
     "name": "stdout",
     "output_type": "stream",
     "text": [
      "Epoch 3, Validation Loss: 0.5819, Accuracy: 81.43%, F1 Score: 0.8147\n"
     ]
    },
    {
     "name": "stderr",
     "output_type": "stream",
     "text": [
      "                                                             \r"
     ]
    },
    {
     "name": "stdout",
     "output_type": "stream",
     "text": [
      "Epoch 4, Training Loss: 0.2074\n",
      "Epoch 4, Training Accuracy: 93.51%\n",
      "Epoch 4, Training F1 Score: 0.9350\n"
     ]
    },
    {
     "name": "stderr",
     "output_type": "stream",
     "text": [
      "                                                              \r"
     ]
    },
    {
     "name": "stdout",
     "output_type": "stream",
     "text": [
      "Epoch 4, Validation Loss: 0.6098, Accuracy: 81.37%, F1 Score: 0.8130\n"
     ]
    },
    {
     "name": "stderr",
     "output_type": "stream",
     "text": [
      "                                                             \r"
     ]
    },
    {
     "name": "stdout",
     "output_type": "stream",
     "text": [
      "Epoch 5, Training Loss: 0.1373\n",
      "Epoch 5, Training Accuracy: 95.74%\n",
      "Epoch 5, Training F1 Score: 0.9573\n"
     ]
    },
    {
     "name": "stderr",
     "output_type": "stream",
     "text": [
      "                                                              "
     ]
    },
    {
     "name": "stdout",
     "output_type": "stream",
     "text": [
      "Epoch 5, Validation Loss: 0.6836, Accuracy: 80.93%, F1 Score: 0.8107\n",
      "Early stopping triggered after 5 epochs.\n"
     ]
    },
    {
     "name": "stderr",
     "output_type": "stream",
     "text": [
      "\r"
     ]
    }
   ],
   "source": [
    "train_model(model, train_loader, valid_loader, criterion, optimizer, epochs=num_epochs, patience=3)"
   ]
  },
  {
   "cell_type": "markdown",
   "id": "ea50c33f",
   "metadata": {},
   "source": [
    "[ 성능 지표 시각화 ]<hr>"
   ]
  },
  {
   "cell_type": "code",
   "execution_count": 60,
   "id": "78b6bff7",
   "metadata": {},
   "outputs": [
    {
     "data": {
      "image/png": "[encoded data removed]",
      "text/plain": [
       "<Figure size 1500x500 with 3 Axes>"
      ]
     },
     "metadata": {},
     "output_type": "display_data"
    }
   ],
   "source": [
    "\n",
    "# Epoch 별 성능 지표\n",
    "epochs = [1, 2, 3, 4, 5, 6]\n",
    "\n",
    "# Training Loss, Accuracy, F1-Score\n",
    "train_losses = [1.3881, 0.7351, 0.5023, 0.3753, 0.2897, 0.2277]\n",
    "train_accuracies = [44.94, 75.33, 84.24, 88.54, 91.57, 93.67]\n",
    "train_f1_scores = [0.4354, 0.7563, 0.8432, 0.8856, 0.9157, 0.9366]\n",
    "\n",
    "# Validation Loss, Accuracy, F1-Score\n",
    "valid_losses = [0.9431, 0.7018, 0.6502, 0.6664, 0.7497, 0.6928]\n",
    "valid_accuracies = [66.93, 76.51, 78.75, 79.65, 78.85, 80.37]\n",
    "valid_f1_scores = [0.6733, 0.7674, 0.7880, 0.7978, 0.7862, 0.8040]\n",
    "\n",
    "# 시각화\n",
    "plt.figure(figsize=(15, 5))\n",
    "\n",
    "# 훈련 손실과 검증 손실\n",
    "plt.subplot(1, 3, 1)\n",
    "plt.plot(epochs, train_losses, label='Train Loss', color='blue', marker='o')\n",
    "plt.plot(epochs, valid_losses, label='Validation Loss', color='red', marker='o')\n",
    "plt.xlabel('Epochs')\n",
    "plt.ylabel('Loss')\n",
    "plt.title('Training vs Validation Loss')\n",
    "plt.legend()\n",
    "\n",
    "# 훈련 정확도와 검증 정확도\n",
    "plt.subplot(1, 3, 2)\n",
    "plt.plot(epochs, train_accuracies, label='Train Accuracy', color='blue', marker='o')\n",
    "plt.plot(epochs, valid_accuracies, label='Validation Accuracy', color='red', marker='o')\n",
    "plt.xlabel('Epochs')\n",
    "plt.ylabel('Accuracy (%)')\n",
    "plt.title('Training vs Validation Accuracy')\n",
    "plt.legend()\n",
    "\n",
    "# 훈련 F1-Score와 검증 F1-Score\n",
    "plt.subplot(1, 3, 3)\n",
    "plt.plot(epochs, train_f1_scores, label='Train F1 Score', color='blue', marker='o')\n",
    "plt.plot(epochs, valid_f1_scores, label='Validation F1 Score', color='red', marker='o')\n",
    "plt.xlabel('Epochs')\n",
    "plt.ylabel('F1 Score')\n",
    "plt.title('Training vs Validation F1 Score')\n",
    "plt.legend()\n",
    "\n",
    "plt.tight_layout()\n",
    "plt.show()"
   ]
  },
  {
   "cell_type": "markdown",
   "id": "ef87a403",
   "metadata": {},
   "source": [
    "[ 모델 활용 ]<hr>"
   ]
  },
  {
   "cell_type": "code",
   "execution_count": null,
   "id": "7676cfc4",
   "metadata": {},
   "outputs": [
    {
     "name": "stdout",
     "output_type": "stream",
     "text": [
      "cpu와 cuda 중 다음 기기로 학습함: cpu\n"
     ]
    }
   ],
   "source": [
    "# 모델 인스턴스 생성\n",
    "vocab_size = len(vocab)       # 전체 단어 사전 크기\n",
    "embed_dim = 200               # 임베딩 차원\n",
    "hidden_dim = 128              # RNN hidden state 크기\n",
    "output_dim = 7                # 클래스 수\n",
    "lr = 0.0005\n",
    "num_epochs = 20\n",
    "\n",
    "model = LSTMClassifier(vocab_size, embed_dim, hidden_dim, output_dim)\n",
    "criterion = nn.CrossEntropyLoss()\n",
    "optimizer = torch.optim.Adam(model.parameters(), lr= lr )\n",
    "\n",
    "USE_CUDA = torch.cuda.is_available()\n",
    "device = torch.device(\"cuda\" if USE_CUDA else \"cpu\")\n",
    "print(\"cpu와 cuda 중 다음 기기로 학습함:\", device)"
   ]
  },
  {
   "cell_type": "code",
   "execution_count": null,
   "id": "f7970b9b",
   "metadata": {},
   "outputs": [
    {
     "ename": "RuntimeError",
     "evalue": "Error(s) in loading state_dict for RNNClassifier:\n\tMissing key(s) in state_dict: \"rnn.weight_ih_l0\", \"rnn.weight_hh_l0\", \"rnn.bias_ih_l0\", \"rnn.bias_hh_l0\", \"rnn.weight_ih_l1\", \"rnn.weight_hh_l1\", \"rnn.bias_ih_l1\", \"rnn.bias_hh_l1\". \n\tUnexpected key(s) in state_dict: \"lstm.weight_ih_l0\", \"lstm.weight_hh_l0\", \"lstm.bias_ih_l0\", \"lstm.bias_hh_l0\", \"lstm.weight_ih_l1\", \"lstm.weight_hh_l1\", \"lstm.bias_ih_l1\", \"lstm.bias_hh_l1\". \n\tsize mismatch for embedding.weight: copying a param with shape torch.Size([19617, 200]) from checkpoint, the shape in current model is torch.Size([25824, 200]).",
     "output_type": "error",
     "traceback": [
      "\u001b[1;31m---------------------------------------------------------------------------\u001b[0m",
      "\u001b[1;31mRuntimeError\u001b[0m                              Traceback (most recent call last)",
      "Cell \u001b[1;32mIn[52], line 8\u001b[0m\n\u001b[0;32m      6\u001b[0m \u001b[38;5;66;03m# 모델 불러오기\u001b[39;00m\n\u001b[0;32m      7\u001b[0m model \u001b[38;5;241m=\u001b[39m RNNClassifier(vocab_size, embed_dim, hidden_dim, output_dim)\n\u001b[1;32m----> 8\u001b[0m \u001b[43mmodel\u001b[49m\u001b[38;5;241;43m.\u001b[39;49m\u001b[43mload_state_dict\u001b[49m\u001b[43m(\u001b[49m\u001b[43mtorch\u001b[49m\u001b[38;5;241;43m.\u001b[39;49m\u001b[43mload\u001b[49m\u001b[43m(\u001b[49m\u001b[38;5;124;43m'\u001b[39;49m\u001b[38;5;124;43mLSTM_best_model.pth\u001b[39;49m\u001b[38;5;124;43m'\u001b[39;49m\u001b[43m)\u001b[49m\u001b[43m)\u001b[49m  \u001b[38;5;66;03m# 저장한 모델 경로\u001b[39;00m\n\u001b[0;32m      9\u001b[0m model\u001b[38;5;241m.\u001b[39mto(device)\n\u001b[0;32m     10\u001b[0m model\u001b[38;5;241m.\u001b[39meval()  \u001b[38;5;66;03m# 평가 모드로 설정\u001b[39;00m\n",
      "File \u001b[1;32mc:\\Users\\KDT-37\\anaconda3\\envs\\NLP\\lib\\site-packages\\torch\\nn\\modules\\module.py:2189\u001b[0m, in \u001b[0;36mModule.load_state_dict\u001b[1;34m(self, state_dict, strict, assign)\u001b[0m\n\u001b[0;32m   2184\u001b[0m         error_msgs\u001b[38;5;241m.\u001b[39minsert(\n\u001b[0;32m   2185\u001b[0m             \u001b[38;5;241m0\u001b[39m, \u001b[38;5;124m'\u001b[39m\u001b[38;5;124mMissing key(s) in state_dict: \u001b[39m\u001b[38;5;132;01m{}\u001b[39;00m\u001b[38;5;124m. \u001b[39m\u001b[38;5;124m'\u001b[39m\u001b[38;5;241m.\u001b[39mformat(\n\u001b[0;32m   2186\u001b[0m                 \u001b[38;5;124m'\u001b[39m\u001b[38;5;124m, \u001b[39m\u001b[38;5;124m'\u001b[39m\u001b[38;5;241m.\u001b[39mjoin(\u001b[38;5;124mf\u001b[39m\u001b[38;5;124m'\u001b[39m\u001b[38;5;124m\"\u001b[39m\u001b[38;5;132;01m{\u001b[39;00mk\u001b[38;5;132;01m}\u001b[39;00m\u001b[38;5;124m\"\u001b[39m\u001b[38;5;124m'\u001b[39m \u001b[38;5;28;01mfor\u001b[39;00m k \u001b[38;5;129;01min\u001b[39;00m missing_keys)))\n\u001b[0;32m   2188\u001b[0m \u001b[38;5;28;01mif\u001b[39;00m \u001b[38;5;28mlen\u001b[39m(error_msgs) \u001b[38;5;241m>\u001b[39m \u001b[38;5;241m0\u001b[39m:\n\u001b[1;32m-> 2189\u001b[0m     \u001b[38;5;28;01mraise\u001b[39;00m \u001b[38;5;167;01mRuntimeError\u001b[39;00m(\u001b[38;5;124m'\u001b[39m\u001b[38;5;124mError(s) in loading state_dict for \u001b[39m\u001b[38;5;132;01m{}\u001b[39;00m\u001b[38;5;124m:\u001b[39m\u001b[38;5;130;01m\\n\u001b[39;00m\u001b[38;5;130;01m\\t\u001b[39;00m\u001b[38;5;132;01m{}\u001b[39;00m\u001b[38;5;124m'\u001b[39m\u001b[38;5;241m.\u001b[39mformat(\n\u001b[0;32m   2190\u001b[0m                        \u001b[38;5;28mself\u001b[39m\u001b[38;5;241m.\u001b[39m\u001b[38;5;18m__class__\u001b[39m\u001b[38;5;241m.\u001b[39m\u001b[38;5;18m__name__\u001b[39m, \u001b[38;5;124m\"\u001b[39m\u001b[38;5;130;01m\\n\u001b[39;00m\u001b[38;5;130;01m\\t\u001b[39;00m\u001b[38;5;124m\"\u001b[39m\u001b[38;5;241m.\u001b[39mjoin(error_msgs)))\n\u001b[0;32m   2191\u001b[0m \u001b[38;5;28;01mreturn\u001b[39;00m _IncompatibleKeys(missing_keys, unexpected_keys)\n",
      "\u001b[1;31mRuntimeError\u001b[0m: Error(s) in loading state_dict for RNNClassifier:\n\tMissing key(s) in state_dict: \"rnn.weight_ih_l0\", \"rnn.weight_hh_l0\", \"rnn.bias_ih_l0\", \"rnn.bias_hh_l0\", \"rnn.weight_ih_l1\", \"rnn.weight_hh_l1\", \"rnn.bias_ih_l1\", \"rnn.bias_hh_l1\". \n\tUnexpected key(s) in state_dict: \"lstm.weight_ih_l0\", \"lstm.weight_hh_l0\", \"lstm.bias_ih_l0\", \"lstm.bias_hh_l0\", \"lstm.weight_ih_l1\", \"lstm.weight_hh_l1\", \"lstm.bias_ih_l1\", \"lstm.bias_hh_l1\". \n\tsize mismatch for embedding.weight: copying a param with shape torch.Size([19617, 200]) from checkpoint, the shape in current model is torch.Size([25824, 200])."
     ]
    }
   ],
   "source": [
    "import torch\n",
    "from torch.utils.data import DataLoader\n",
    "from sklearn.metrics import accuracy_score, f1_score\n",
    "from tqdm import tqdm\n",
    "\n",
    "# 모델 불러오기\n",
    "model = LSTMClassifier(vocab_size, embed_dim, hidden_dim, output_dim)\n",
    "model.load_state_dict(torch.load('LSTM_best_model.pth'))  # 저장한 모델 경로\n",
    "model.to(device)\n",
    "model.eval()  # 평가 모드로 설정\n",
    "\n",
    "# 테스트 데이터 준비\n",
    "# TensorDataset은 input_ids, attention_mask, labels를 포함하는 형태여야 합니다\n",
    "test_dataset = TensorDataset(test_input_ids, test_attention_mask, test_labels)\n",
    "test_loader = DataLoader(test_dataset, batch_size=32, shuffle=False)\n",
    "\n",
    "# 예측 함수\n",
    "def predict(model, test_loader, device):\n",
    "    all_preds = []\n",
    "    all_labels = []\n",
    "    \n",
    "    with torch.no_grad():  # 평가 시 기울기 계산을 하지 않음\n",
    "        for batch in tqdm(test_loader, desc=\"Testing\"):\n",
    "            input_ids = batch['input_ids'].to(device)\n",
    "            attention_mask = batch['attention_mask'].to(device)\n",
    "            labels = batch['labels'].to(device)\n",
    "            \n",
    "            # 모델 예측\n",
    "            outputs = model(input_ids, attention_mask=attention_mask)\n",
    "            logits = outputs.logits\n",
    "            \n",
    "            # 예측값 저장\n",
    "            _, predicted = torch.max(logits, 1)\n",
    "            all_preds.extend(predicted.cpu().numpy())\n",
    "            all_labels.extend(labels.cpu().numpy())\n",
    "    \n",
    "    # 결과 계산\n",
    "    accuracy = accuracy_score(all_labels, all_preds)\n",
    "    f1 = f1_score(all_labels, all_preds, average='weighted')\n",
    "    \n",
    "    return accuracy, f1\n",
    "\n",
    "# 테스트셋에 대한 예측 실행\n",
    "accuracy, f1 = predict(model, test_loader, device)\n",
    "\n",
    "print(f\"Test Accuracy: {accuracy * 100:.2f}%\")\n",
    "print(f\"Test F1 Score: {f1:.4f}\")"
   ]
  }
 ],
 "metadata": {
  "kernelspec": {
   "display_name": "NLP",
   "language": "python",
   "name": "python3"
  },
  "language_info": {
   "codemirror_mode": {
    "name": "ipython",
    "version": 3
   },
   "file_extension": ".py",
   "mimetype": "text/x-python",
   "name": "python",
   "nbconvert_exporter": "python",
   "pygments_lexer": "ipython3",
   "version": "3.8.20"
  }
 },
 "nbformat": 4,
 "nbformat_minor": 5
}
